{
  "nbformat": 4,
  "nbformat_minor": 0,
  "metadata": {
    "colab": {
      "provenance": [],
      "authorship_tag": "ABX9TyNxmBUmN9VPPGSo5ci1jSv4",
      "include_colab_link": true
    },
    "kernelspec": {
      "name": "python3",
      "display_name": "Python 3"
    },
    "language_info": {
      "name": "python"
    },
    "accelerator": "GPU",
    "gpuClass": "standard",
    "widgets": {
      "application/vnd.jupyter.widget-state+json": {
        "6f8073c542b54daeb82f4aefd4c1d709": {
          "model_module": "@jupyter-widgets/controls",
          "model_name": "HBoxModel",
          "model_module_version": "1.5.0",
          "state": {
            "_dom_classes": [],
            "_model_module": "@jupyter-widgets/controls",
            "_model_module_version": "1.5.0",
            "_model_name": "HBoxModel",
            "_view_count": null,
            "_view_module": "@jupyter-widgets/controls",
            "_view_module_version": "1.5.0",
            "_view_name": "HBoxView",
            "box_style": "",
            "children": [
              "IPY_MODEL_9223575653804f4abbcba4cab4494b88",
              "IPY_MODEL_26ce5b9658fe4b7c9c64d4e20d597c21",
              "IPY_MODEL_55527065442c44bd9ef268351a571194"
            ],
            "layout": "IPY_MODEL_0aa78990d15c4ffe9012c61fd9b185e8"
          }
        },
        "9223575653804f4abbcba4cab4494b88": {
          "model_module": "@jupyter-widgets/controls",
          "model_name": "HTMLModel",
          "model_module_version": "1.5.0",
          "state": {
            "_dom_classes": [],
            "_model_module": "@jupyter-widgets/controls",
            "_model_module_version": "1.5.0",
            "_model_name": "HTMLModel",
            "_view_count": null,
            "_view_module": "@jupyter-widgets/controls",
            "_view_module_version": "1.5.0",
            "_view_name": "HTMLView",
            "description": "",
            "description_tooltip": null,
            "layout": "IPY_MODEL_e1a748350ea24c1590863811aa4f9b73",
            "placeholder": "​",
            "style": "IPY_MODEL_11982740a6854dd78d59301b02dad7b9",
            "value": "100%"
          }
        },
        "26ce5b9658fe4b7c9c64d4e20d597c21": {
          "model_module": "@jupyter-widgets/controls",
          "model_name": "FloatProgressModel",
          "model_module_version": "1.5.0",
          "state": {
            "_dom_classes": [],
            "_model_module": "@jupyter-widgets/controls",
            "_model_module_version": "1.5.0",
            "_model_name": "FloatProgressModel",
            "_view_count": null,
            "_view_module": "@jupyter-widgets/controls",
            "_view_module_version": "1.5.0",
            "_view_name": "ProgressView",
            "bar_style": "success",
            "description": "",
            "description_tooltip": null,
            "layout": "IPY_MODEL_d39a2b3dc89e4eb69b36d196643d0c96",
            "max": 5103355,
            "min": 0,
            "orientation": "horizontal",
            "style": "IPY_MODEL_617c6d62d8a143268c455ad8dc633f01",
            "value": 5103355
          }
        },
        "55527065442c44bd9ef268351a571194": {
          "model_module": "@jupyter-widgets/controls",
          "model_name": "HTMLModel",
          "model_module_version": "1.5.0",
          "state": {
            "_dom_classes": [],
            "_model_module": "@jupyter-widgets/controls",
            "_model_module_version": "1.5.0",
            "_model_name": "HTMLModel",
            "_view_count": null,
            "_view_module": "@jupyter-widgets/controls",
            "_view_module_version": "1.5.0",
            "_view_name": "HTMLView",
            "description": "",
            "description_tooltip": null,
            "layout": "IPY_MODEL_f3d866c5133d4ae3beb565f8bf87e4ef",
            "placeholder": "​",
            "style": "IPY_MODEL_f199b845cdb743ea95fed3fb3e03fb95",
            "value": " 4.87M/4.87M [00:00&lt;00:00, 6.00MB/s]"
          }
        },
        "0aa78990d15c4ffe9012c61fd9b185e8": {
          "model_module": "@jupyter-widgets/base",
          "model_name": "LayoutModel",
          "model_module_version": "1.2.0",
          "state": {
            "_model_module": "@jupyter-widgets/base",
            "_model_module_version": "1.2.0",
            "_model_name": "LayoutModel",
            "_view_count": null,
            "_view_module": "@jupyter-widgets/base",
            "_view_module_version": "1.2.0",
            "_view_name": "LayoutView",
            "align_content": null,
            "align_items": null,
            "align_self": null,
            "border": null,
            "bottom": null,
            "display": null,
            "flex": null,
            "flex_flow": null,
            "grid_area": null,
            "grid_auto_columns": null,
            "grid_auto_flow": null,
            "grid_auto_rows": null,
            "grid_column": null,
            "grid_gap": null,
            "grid_row": null,
            "grid_template_areas": null,
            "grid_template_columns": null,
            "grid_template_rows": null,
            "height": null,
            "justify_content": null,
            "justify_items": null,
            "left": null,
            "margin": null,
            "max_height": null,
            "max_width": null,
            "min_height": null,
            "min_width": null,
            "object_fit": null,
            "object_position": null,
            "order": null,
            "overflow": null,
            "overflow_x": null,
            "overflow_y": null,
            "padding": null,
            "right": null,
            "top": null,
            "visibility": null,
            "width": null
          }
        },
        "e1a748350ea24c1590863811aa4f9b73": {
          "model_module": "@jupyter-widgets/base",
          "model_name": "LayoutModel",
          "model_module_version": "1.2.0",
          "state": {
            "_model_module": "@jupyter-widgets/base",
            "_model_module_version": "1.2.0",
            "_model_name": "LayoutModel",
            "_view_count": null,
            "_view_module": "@jupyter-widgets/base",
            "_view_module_version": "1.2.0",
            "_view_name": "LayoutView",
            "align_content": null,
            "align_items": null,
            "align_self": null,
            "border": null,
            "bottom": null,
            "display": null,
            "flex": null,
            "flex_flow": null,
            "grid_area": null,
            "grid_auto_columns": null,
            "grid_auto_flow": null,
            "grid_auto_rows": null,
            "grid_column": null,
            "grid_gap": null,
            "grid_row": null,
            "grid_template_areas": null,
            "grid_template_columns": null,
            "grid_template_rows": null,
            "height": null,
            "justify_content": null,
            "justify_items": null,
            "left": null,
            "margin": null,
            "max_height": null,
            "max_width": null,
            "min_height": null,
            "min_width": null,
            "object_fit": null,
            "object_position": null,
            "order": null,
            "overflow": null,
            "overflow_x": null,
            "overflow_y": null,
            "padding": null,
            "right": null,
            "top": null,
            "visibility": null,
            "width": null
          }
        },
        "11982740a6854dd78d59301b02dad7b9": {
          "model_module": "@jupyter-widgets/controls",
          "model_name": "DescriptionStyleModel",
          "model_module_version": "1.5.0",
          "state": {
            "_model_module": "@jupyter-widgets/controls",
            "_model_module_version": "1.5.0",
            "_model_name": "DescriptionStyleModel",
            "_view_count": null,
            "_view_module": "@jupyter-widgets/base",
            "_view_module_version": "1.2.0",
            "_view_name": "StyleView",
            "description_width": ""
          }
        },
        "d39a2b3dc89e4eb69b36d196643d0c96": {
          "model_module": "@jupyter-widgets/base",
          "model_name": "LayoutModel",
          "model_module_version": "1.2.0",
          "state": {
            "_model_module": "@jupyter-widgets/base",
            "_model_module_version": "1.2.0",
            "_model_name": "LayoutModel",
            "_view_count": null,
            "_view_module": "@jupyter-widgets/base",
            "_view_module_version": "1.2.0",
            "_view_name": "LayoutView",
            "align_content": null,
            "align_items": null,
            "align_self": null,
            "border": null,
            "bottom": null,
            "display": null,
            "flex": null,
            "flex_flow": null,
            "grid_area": null,
            "grid_auto_columns": null,
            "grid_auto_flow": null,
            "grid_auto_rows": null,
            "grid_column": null,
            "grid_gap": null,
            "grid_row": null,
            "grid_template_areas": null,
            "grid_template_columns": null,
            "grid_template_rows": null,
            "height": null,
            "justify_content": null,
            "justify_items": null,
            "left": null,
            "margin": null,
            "max_height": null,
            "max_width": null,
            "min_height": null,
            "min_width": null,
            "object_fit": null,
            "object_position": null,
            "order": null,
            "overflow": null,
            "overflow_x": null,
            "overflow_y": null,
            "padding": null,
            "right": null,
            "top": null,
            "visibility": null,
            "width": null
          }
        },
        "617c6d62d8a143268c455ad8dc633f01": {
          "model_module": "@jupyter-widgets/controls",
          "model_name": "ProgressStyleModel",
          "model_module_version": "1.5.0",
          "state": {
            "_model_module": "@jupyter-widgets/controls",
            "_model_module_version": "1.5.0",
            "_model_name": "ProgressStyleModel",
            "_view_count": null,
            "_view_module": "@jupyter-widgets/base",
            "_view_module_version": "1.2.0",
            "_view_name": "StyleView",
            "bar_color": null,
            "description_width": ""
          }
        },
        "f3d866c5133d4ae3beb565f8bf87e4ef": {
          "model_module": "@jupyter-widgets/base",
          "model_name": "LayoutModel",
          "model_module_version": "1.2.0",
          "state": {
            "_model_module": "@jupyter-widgets/base",
            "_model_module_version": "1.2.0",
            "_model_name": "LayoutModel",
            "_view_count": null,
            "_view_module": "@jupyter-widgets/base",
            "_view_module_version": "1.2.0",
            "_view_name": "LayoutView",
            "align_content": null,
            "align_items": null,
            "align_self": null,
            "border": null,
            "bottom": null,
            "display": null,
            "flex": null,
            "flex_flow": null,
            "grid_area": null,
            "grid_auto_columns": null,
            "grid_auto_flow": null,
            "grid_auto_rows": null,
            "grid_column": null,
            "grid_gap": null,
            "grid_row": null,
            "grid_template_areas": null,
            "grid_template_columns": null,
            "grid_template_rows": null,
            "height": null,
            "justify_content": null,
            "justify_items": null,
            "left": null,
            "margin": null,
            "max_height": null,
            "max_width": null,
            "min_height": null,
            "min_width": null,
            "object_fit": null,
            "object_position": null,
            "order": null,
            "overflow": null,
            "overflow_x": null,
            "overflow_y": null,
            "padding": null,
            "right": null,
            "top": null,
            "visibility": null,
            "width": null
          }
        },
        "f199b845cdb743ea95fed3fb3e03fb95": {
          "model_module": "@jupyter-widgets/controls",
          "model_name": "DescriptionStyleModel",
          "model_module_version": "1.5.0",
          "state": {
            "_model_module": "@jupyter-widgets/controls",
            "_model_module_version": "1.5.0",
            "_model_name": "DescriptionStyleModel",
            "_view_count": null,
            "_view_module": "@jupyter-widgets/base",
            "_view_module_version": "1.2.0",
            "_view_name": "StyleView",
            "description_width": ""
          }
        },
        "7c2c0c646b5e4bb9aa16f4d8b9c37984": {
          "model_module": "@jupyter-widgets/controls",
          "model_name": "HBoxModel",
          "model_module_version": "1.5.0",
          "state": {
            "_dom_classes": [],
            "_model_module": "@jupyter-widgets/controls",
            "_model_module_version": "1.5.0",
            "_model_name": "HBoxModel",
            "_view_count": null,
            "_view_module": "@jupyter-widgets/controls",
            "_view_module_version": "1.5.0",
            "_view_name": "HBoxView",
            "box_style": "",
            "children": [
              "IPY_MODEL_1f461cba6912434a9b82ca074cf4b2e0",
              "IPY_MODEL_4bb1d89b3553427c9253012c0b252e88",
              "IPY_MODEL_a1d52f07dbf04d709370e6331ba66641"
            ],
            "layout": "IPY_MODEL_5386833c34204b4b849d2ed011272b19"
          }
        },
        "1f461cba6912434a9b82ca074cf4b2e0": {
          "model_module": "@jupyter-widgets/controls",
          "model_name": "HTMLModel",
          "model_module_version": "1.5.0",
          "state": {
            "_dom_classes": [],
            "_model_module": "@jupyter-widgets/controls",
            "_model_module_version": "1.5.0",
            "_model_name": "HTMLModel",
            "_view_count": null,
            "_view_module": "@jupyter-widgets/controls",
            "_view_module_version": "1.5.0",
            "_view_name": "HTMLView",
            "description": "",
            "description_tooltip": null,
            "layout": "IPY_MODEL_90f60ea9bc5d4720895441088c63d6a3",
            "placeholder": "​",
            "style": "IPY_MODEL_ba1dc1d579cf41d09f5d06eb648e1b11",
            "value": "100%"
          }
        },
        "4bb1d89b3553427c9253012c0b252e88": {
          "model_module": "@jupyter-widgets/controls",
          "model_name": "FloatProgressModel",
          "model_module_version": "1.5.0",
          "state": {
            "_dom_classes": [],
            "_model_module": "@jupyter-widgets/controls",
            "_model_module_version": "1.5.0",
            "_model_name": "FloatProgressModel",
            "_view_count": null,
            "_view_module": "@jupyter-widgets/controls",
            "_view_module_version": "1.5.0",
            "_view_name": "ProgressView",
            "bar_style": "success",
            "description": "",
            "description_tooltip": null,
            "layout": "IPY_MODEL_2689fbfd1c7b46858bc2203597e3bcfa",
            "max": 11034043,
            "min": 0,
            "orientation": "horizontal",
            "style": "IPY_MODEL_b849faf495ab4cfd9a681f7a2ba768e9",
            "value": 11034043
          }
        },
        "a1d52f07dbf04d709370e6331ba66641": {
          "model_module": "@jupyter-widgets/controls",
          "model_name": "HTMLModel",
          "model_module_version": "1.5.0",
          "state": {
            "_dom_classes": [],
            "_model_module": "@jupyter-widgets/controls",
            "_model_module_version": "1.5.0",
            "_model_name": "HTMLModel",
            "_view_count": null,
            "_view_module": "@jupyter-widgets/controls",
            "_view_module_version": "1.5.0",
            "_view_name": "HTMLView",
            "description": "",
            "description_tooltip": null,
            "layout": "IPY_MODEL_0f0d5db88fa34eea992613c0f66732aa",
            "placeholder": "​",
            "style": "IPY_MODEL_cf6348b9a83348778e883f84e22d37a5",
            "value": " 10.5M/10.5M [00:01&lt;00:00, 6.90MB/s]"
          }
        },
        "5386833c34204b4b849d2ed011272b19": {
          "model_module": "@jupyter-widgets/base",
          "model_name": "LayoutModel",
          "model_module_version": "1.2.0",
          "state": {
            "_model_module": "@jupyter-widgets/base",
            "_model_module_version": "1.2.0",
            "_model_name": "LayoutModel",
            "_view_count": null,
            "_view_module": "@jupyter-widgets/base",
            "_view_module_version": "1.2.0",
            "_view_name": "LayoutView",
            "align_content": null,
            "align_items": null,
            "align_self": null,
            "border": null,
            "bottom": null,
            "display": null,
            "flex": null,
            "flex_flow": null,
            "grid_area": null,
            "grid_auto_columns": null,
            "grid_auto_flow": null,
            "grid_auto_rows": null,
            "grid_column": null,
            "grid_gap": null,
            "grid_row": null,
            "grid_template_areas": null,
            "grid_template_columns": null,
            "grid_template_rows": null,
            "height": null,
            "justify_content": null,
            "justify_items": null,
            "left": null,
            "margin": null,
            "max_height": null,
            "max_width": null,
            "min_height": null,
            "min_width": null,
            "object_fit": null,
            "object_position": null,
            "order": null,
            "overflow": null,
            "overflow_x": null,
            "overflow_y": null,
            "padding": null,
            "right": null,
            "top": null,
            "visibility": null,
            "width": null
          }
        },
        "90f60ea9bc5d4720895441088c63d6a3": {
          "model_module": "@jupyter-widgets/base",
          "model_name": "LayoutModel",
          "model_module_version": "1.2.0",
          "state": {
            "_model_module": "@jupyter-widgets/base",
            "_model_module_version": "1.2.0",
            "_model_name": "LayoutModel",
            "_view_count": null,
            "_view_module": "@jupyter-widgets/base",
            "_view_module_version": "1.2.0",
            "_view_name": "LayoutView",
            "align_content": null,
            "align_items": null,
            "align_self": null,
            "border": null,
            "bottom": null,
            "display": null,
            "flex": null,
            "flex_flow": null,
            "grid_area": null,
            "grid_auto_columns": null,
            "grid_auto_flow": null,
            "grid_auto_rows": null,
            "grid_column": null,
            "grid_gap": null,
            "grid_row": null,
            "grid_template_areas": null,
            "grid_template_columns": null,
            "grid_template_rows": null,
            "height": null,
            "justify_content": null,
            "justify_items": null,
            "left": null,
            "margin": null,
            "max_height": null,
            "max_width": null,
            "min_height": null,
            "min_width": null,
            "object_fit": null,
            "object_position": null,
            "order": null,
            "overflow": null,
            "overflow_x": null,
            "overflow_y": null,
            "padding": null,
            "right": null,
            "top": null,
            "visibility": null,
            "width": null
          }
        },
        "ba1dc1d579cf41d09f5d06eb648e1b11": {
          "model_module": "@jupyter-widgets/controls",
          "model_name": "DescriptionStyleModel",
          "model_module_version": "1.5.0",
          "state": {
            "_model_module": "@jupyter-widgets/controls",
            "_model_module_version": "1.5.0",
            "_model_name": "DescriptionStyleModel",
            "_view_count": null,
            "_view_module": "@jupyter-widgets/base",
            "_view_module_version": "1.2.0",
            "_view_name": "StyleView",
            "description_width": ""
          }
        },
        "2689fbfd1c7b46858bc2203597e3bcfa": {
          "model_module": "@jupyter-widgets/base",
          "model_name": "LayoutModel",
          "model_module_version": "1.2.0",
          "state": {
            "_model_module": "@jupyter-widgets/base",
            "_model_module_version": "1.2.0",
            "_model_name": "LayoutModel",
            "_view_count": null,
            "_view_module": "@jupyter-widgets/base",
            "_view_module_version": "1.2.0",
            "_view_name": "LayoutView",
            "align_content": null,
            "align_items": null,
            "align_self": null,
            "border": null,
            "bottom": null,
            "display": null,
            "flex": null,
            "flex_flow": null,
            "grid_area": null,
            "grid_auto_columns": null,
            "grid_auto_flow": null,
            "grid_auto_rows": null,
            "grid_column": null,
            "grid_gap": null,
            "grid_row": null,
            "grid_template_areas": null,
            "grid_template_columns": null,
            "grid_template_rows": null,
            "height": null,
            "justify_content": null,
            "justify_items": null,
            "left": null,
            "margin": null,
            "max_height": null,
            "max_width": null,
            "min_height": null,
            "min_width": null,
            "object_fit": null,
            "object_position": null,
            "order": null,
            "overflow": null,
            "overflow_x": null,
            "overflow_y": null,
            "padding": null,
            "right": null,
            "top": null,
            "visibility": null,
            "width": null
          }
        },
        "b849faf495ab4cfd9a681f7a2ba768e9": {
          "model_module": "@jupyter-widgets/controls",
          "model_name": "ProgressStyleModel",
          "model_module_version": "1.5.0",
          "state": {
            "_model_module": "@jupyter-widgets/controls",
            "_model_module_version": "1.5.0",
            "_model_name": "ProgressStyleModel",
            "_view_count": null,
            "_view_module": "@jupyter-widgets/base",
            "_view_module_version": "1.2.0",
            "_view_name": "StyleView",
            "bar_color": null,
            "description_width": ""
          }
        },
        "0f0d5db88fa34eea992613c0f66732aa": {
          "model_module": "@jupyter-widgets/base",
          "model_name": "LayoutModel",
          "model_module_version": "1.2.0",
          "state": {
            "_model_module": "@jupyter-widgets/base",
            "_model_module_version": "1.2.0",
            "_model_name": "LayoutModel",
            "_view_count": null,
            "_view_module": "@jupyter-widgets/base",
            "_view_module_version": "1.2.0",
            "_view_name": "LayoutView",
            "align_content": null,
            "align_items": null,
            "align_self": null,
            "border": null,
            "bottom": null,
            "display": null,
            "flex": null,
            "flex_flow": null,
            "grid_area": null,
            "grid_auto_columns": null,
            "grid_auto_flow": null,
            "grid_auto_rows": null,
            "grid_column": null,
            "grid_gap": null,
            "grid_row": null,
            "grid_template_areas": null,
            "grid_template_columns": null,
            "grid_template_rows": null,
            "height": null,
            "justify_content": null,
            "justify_items": null,
            "left": null,
            "margin": null,
            "max_height": null,
            "max_width": null,
            "min_height": null,
            "min_width": null,
            "object_fit": null,
            "object_position": null,
            "order": null,
            "overflow": null,
            "overflow_x": null,
            "overflow_y": null,
            "padding": null,
            "right": null,
            "top": null,
            "visibility": null,
            "width": null
          }
        },
        "cf6348b9a83348778e883f84e22d37a5": {
          "model_module": "@jupyter-widgets/controls",
          "model_name": "DescriptionStyleModel",
          "model_module_version": "1.5.0",
          "state": {
            "_model_module": "@jupyter-widgets/controls",
            "_model_module_version": "1.5.0",
            "_model_name": "DescriptionStyleModel",
            "_view_count": null,
            "_view_module": "@jupyter-widgets/base",
            "_view_module_version": "1.2.0",
            "_view_name": "StyleView",
            "description_width": ""
          }
        },
        "c58782b7b67d46fab4f85d1b8f2f7d52": {
          "model_module": "@jupyter-widgets/controls",
          "model_name": "HBoxModel",
          "model_module_version": "1.5.0",
          "state": {
            "_dom_classes": [],
            "_model_module": "@jupyter-widgets/controls",
            "_model_module_version": "1.5.0",
            "_model_name": "HBoxModel",
            "_view_count": null,
            "_view_module": "@jupyter-widgets/controls",
            "_view_module_version": "1.5.0",
            "_view_name": "HBoxView",
            "box_style": "",
            "children": [
              "IPY_MODEL_8bca6eee35ad4dfbb284689e1fa674ea",
              "IPY_MODEL_1c0c87c7aa4c41af96e04630e4195bac",
              "IPY_MODEL_51e8578fc3a24fe0b5a78820bffb4987"
            ],
            "layout": "IPY_MODEL_6fd37d30fe734c6ab262d144b9e3d165"
          }
        },
        "8bca6eee35ad4dfbb284689e1fa674ea": {
          "model_module": "@jupyter-widgets/controls",
          "model_name": "HTMLModel",
          "model_module_version": "1.5.0",
          "state": {
            "_dom_classes": [],
            "_model_module": "@jupyter-widgets/controls",
            "_model_module_version": "1.5.0",
            "_model_name": "HTMLModel",
            "_view_count": null,
            "_view_module": "@jupyter-widgets/controls",
            "_view_module_version": "1.5.0",
            "_view_name": "HTMLView",
            "description": "",
            "description_tooltip": null,
            "layout": "IPY_MODEL_36f924b3f5ae4257975c53402f8e2f14",
            "placeholder": "​",
            "style": "IPY_MODEL_6fe9668b29ab4c57b0d263f5cbc732ff",
            "value": "100%"
          }
        },
        "1c0c87c7aa4c41af96e04630e4195bac": {
          "model_module": "@jupyter-widgets/controls",
          "model_name": "FloatProgressModel",
          "model_module_version": "1.5.0",
          "state": {
            "_dom_classes": [],
            "_model_module": "@jupyter-widgets/controls",
            "_model_module_version": "1.5.0",
            "_model_name": "FloatProgressModel",
            "_view_count": null,
            "_view_module": "@jupyter-widgets/controls",
            "_view_module_version": "1.5.0",
            "_view_name": "ProgressView",
            "bar_style": "success",
            "description": "",
            "description_tooltip": null,
            "layout": "IPY_MODEL_044b85acb8ef4acab1db1a6179ef8cb0",
            "max": 26096019,
            "min": 0,
            "orientation": "horizontal",
            "style": "IPY_MODEL_134eed7e77da4ee1b2e62e82139d5ff3",
            "value": 26096019
          }
        },
        "51e8578fc3a24fe0b5a78820bffb4987": {
          "model_module": "@jupyter-widgets/controls",
          "model_name": "HTMLModel",
          "model_module_version": "1.5.0",
          "state": {
            "_dom_classes": [],
            "_model_module": "@jupyter-widgets/controls",
            "_model_module_version": "1.5.0",
            "_model_name": "HTMLModel",
            "_view_count": null,
            "_view_module": "@jupyter-widgets/controls",
            "_view_module_version": "1.5.0",
            "_view_name": "HTMLView",
            "description": "",
            "description_tooltip": null,
            "layout": "IPY_MODEL_0e276b0f08a840cd9d0647b454f8fafb",
            "placeholder": "​",
            "style": "IPY_MODEL_8cc635ada81b43cab17b1e8d06782c92",
            "value": " 24.9M/24.9M [00:02&lt;00:00, 9.31MB/s]"
          }
        },
        "6fd37d30fe734c6ab262d144b9e3d165": {
          "model_module": "@jupyter-widgets/base",
          "model_name": "LayoutModel",
          "model_module_version": "1.2.0",
          "state": {
            "_model_module": "@jupyter-widgets/base",
            "_model_module_version": "1.2.0",
            "_model_name": "LayoutModel",
            "_view_count": null,
            "_view_module": "@jupyter-widgets/base",
            "_view_module_version": "1.2.0",
            "_view_name": "LayoutView",
            "align_content": null,
            "align_items": null,
            "align_self": null,
            "border": null,
            "bottom": null,
            "display": null,
            "flex": null,
            "flex_flow": null,
            "grid_area": null,
            "grid_auto_columns": null,
            "grid_auto_flow": null,
            "grid_auto_rows": null,
            "grid_column": null,
            "grid_gap": null,
            "grid_row": null,
            "grid_template_areas": null,
            "grid_template_columns": null,
            "grid_template_rows": null,
            "height": null,
            "justify_content": null,
            "justify_items": null,
            "left": null,
            "margin": null,
            "max_height": null,
            "max_width": null,
            "min_height": null,
            "min_width": null,
            "object_fit": null,
            "object_position": null,
            "order": null,
            "overflow": null,
            "overflow_x": null,
            "overflow_y": null,
            "padding": null,
            "right": null,
            "top": null,
            "visibility": null,
            "width": null
          }
        },
        "36f924b3f5ae4257975c53402f8e2f14": {
          "model_module": "@jupyter-widgets/base",
          "model_name": "LayoutModel",
          "model_module_version": "1.2.0",
          "state": {
            "_model_module": "@jupyter-widgets/base",
            "_model_module_version": "1.2.0",
            "_model_name": "LayoutModel",
            "_view_count": null,
            "_view_module": "@jupyter-widgets/base",
            "_view_module_version": "1.2.0",
            "_view_name": "LayoutView",
            "align_content": null,
            "align_items": null,
            "align_self": null,
            "border": null,
            "bottom": null,
            "display": null,
            "flex": null,
            "flex_flow": null,
            "grid_area": null,
            "grid_auto_columns": null,
            "grid_auto_flow": null,
            "grid_auto_rows": null,
            "grid_column": null,
            "grid_gap": null,
            "grid_row": null,
            "grid_template_areas": null,
            "grid_template_columns": null,
            "grid_template_rows": null,
            "height": null,
            "justify_content": null,
            "justify_items": null,
            "left": null,
            "margin": null,
            "max_height": null,
            "max_width": null,
            "min_height": null,
            "min_width": null,
            "object_fit": null,
            "object_position": null,
            "order": null,
            "overflow": null,
            "overflow_x": null,
            "overflow_y": null,
            "padding": null,
            "right": null,
            "top": null,
            "visibility": null,
            "width": null
          }
        },
        "6fe9668b29ab4c57b0d263f5cbc732ff": {
          "model_module": "@jupyter-widgets/controls",
          "model_name": "DescriptionStyleModel",
          "model_module_version": "1.5.0",
          "state": {
            "_model_module": "@jupyter-widgets/controls",
            "_model_module_version": "1.5.0",
            "_model_name": "DescriptionStyleModel",
            "_view_count": null,
            "_view_module": "@jupyter-widgets/base",
            "_view_module_version": "1.2.0",
            "_view_name": "StyleView",
            "description_width": ""
          }
        },
        "044b85acb8ef4acab1db1a6179ef8cb0": {
          "model_module": "@jupyter-widgets/base",
          "model_name": "LayoutModel",
          "model_module_version": "1.2.0",
          "state": {
            "_model_module": "@jupyter-widgets/base",
            "_model_module_version": "1.2.0",
            "_model_name": "LayoutModel",
            "_view_count": null,
            "_view_module": "@jupyter-widgets/base",
            "_view_module_version": "1.2.0",
            "_view_name": "LayoutView",
            "align_content": null,
            "align_items": null,
            "align_self": null,
            "border": null,
            "bottom": null,
            "display": null,
            "flex": null,
            "flex_flow": null,
            "grid_area": null,
            "grid_auto_columns": null,
            "grid_auto_flow": null,
            "grid_auto_rows": null,
            "grid_column": null,
            "grid_gap": null,
            "grid_row": null,
            "grid_template_areas": null,
            "grid_template_columns": null,
            "grid_template_rows": null,
            "height": null,
            "justify_content": null,
            "justify_items": null,
            "left": null,
            "margin": null,
            "max_height": null,
            "max_width": null,
            "min_height": null,
            "min_width": null,
            "object_fit": null,
            "object_position": null,
            "order": null,
            "overflow": null,
            "overflow_x": null,
            "overflow_y": null,
            "padding": null,
            "right": null,
            "top": null,
            "visibility": null,
            "width": null
          }
        },
        "134eed7e77da4ee1b2e62e82139d5ff3": {
          "model_module": "@jupyter-widgets/controls",
          "model_name": "ProgressStyleModel",
          "model_module_version": "1.5.0",
          "state": {
            "_model_module": "@jupyter-widgets/controls",
            "_model_module_version": "1.5.0",
            "_model_name": "ProgressStyleModel",
            "_view_count": null,
            "_view_module": "@jupyter-widgets/base",
            "_view_module_version": "1.2.0",
            "_view_name": "StyleView",
            "bar_color": null,
            "description_width": ""
          }
        },
        "0e276b0f08a840cd9d0647b454f8fafb": {
          "model_module": "@jupyter-widgets/base",
          "model_name": "LayoutModel",
          "model_module_version": "1.2.0",
          "state": {
            "_model_module": "@jupyter-widgets/base",
            "_model_module_version": "1.2.0",
            "_model_name": "LayoutModel",
            "_view_count": null,
            "_view_module": "@jupyter-widgets/base",
            "_view_module_version": "1.2.0",
            "_view_name": "LayoutView",
            "align_content": null,
            "align_items": null,
            "align_self": null,
            "border": null,
            "bottom": null,
            "display": null,
            "flex": null,
            "flex_flow": null,
            "grid_area": null,
            "grid_auto_columns": null,
            "grid_auto_flow": null,
            "grid_auto_rows": null,
            "grid_column": null,
            "grid_gap": null,
            "grid_row": null,
            "grid_template_areas": null,
            "grid_template_columns": null,
            "grid_template_rows": null,
            "height": null,
            "justify_content": null,
            "justify_items": null,
            "left": null,
            "margin": null,
            "max_height": null,
            "max_width": null,
            "min_height": null,
            "min_width": null,
            "object_fit": null,
            "object_position": null,
            "order": null,
            "overflow": null,
            "overflow_x": null,
            "overflow_y": null,
            "padding": null,
            "right": null,
            "top": null,
            "visibility": null,
            "width": null
          }
        },
        "8cc635ada81b43cab17b1e8d06782c92": {
          "model_module": "@jupyter-widgets/controls",
          "model_name": "DescriptionStyleModel",
          "model_module_version": "1.5.0",
          "state": {
            "_model_module": "@jupyter-widgets/controls",
            "_model_module_version": "1.5.0",
            "_model_name": "DescriptionStyleModel",
            "_view_count": null,
            "_view_module": "@jupyter-widgets/base",
            "_view_module_version": "1.2.0",
            "_view_name": "StyleView",
            "description_width": ""
          }
        },
        "40931102b36f4e43a05e7389adf18762": {
          "model_module": "@jupyter-widgets/controls",
          "model_name": "HBoxModel",
          "model_module_version": "1.5.0",
          "state": {
            "_dom_classes": [],
            "_model_module": "@jupyter-widgets/controls",
            "_model_module_version": "1.5.0",
            "_model_name": "HBoxModel",
            "_view_count": null,
            "_view_module": "@jupyter-widgets/controls",
            "_view_module_version": "1.5.0",
            "_view_name": "HBoxView",
            "box_style": "",
            "children": [
              "IPY_MODEL_80b84027a5b44698a7a9a8634e2bbc2a",
              "IPY_MODEL_e1dd813021bb40fbb208b20d2c73d31d",
              "IPY_MODEL_b4338ff86b2541e39186f180c7f4b5e1"
            ],
            "layout": "IPY_MODEL_cdbdbdaabe0b486989d27aeed31be089"
          }
        },
        "80b84027a5b44698a7a9a8634e2bbc2a": {
          "model_module": "@jupyter-widgets/controls",
          "model_name": "HTMLModel",
          "model_module_version": "1.5.0",
          "state": {
            "_dom_classes": [],
            "_model_module": "@jupyter-widgets/controls",
            "_model_module_version": "1.5.0",
            "_model_name": "HTMLModel",
            "_view_count": null,
            "_view_module": "@jupyter-widgets/controls",
            "_view_module_version": "1.5.0",
            "_view_name": "HTMLView",
            "description": "",
            "description_tooltip": null,
            "layout": "IPY_MODEL_b2177ef5d4d84a0a9b55020ec937f40e",
            "placeholder": "​",
            "style": "IPY_MODEL_db11e65d2d10492b80c72aa51722febd",
            "value": "100%"
          }
        },
        "e1dd813021bb40fbb208b20d2c73d31d": {
          "model_module": "@jupyter-widgets/controls",
          "model_name": "FloatProgressModel",
          "model_module_version": "1.5.0",
          "state": {
            "_dom_classes": [],
            "_model_module": "@jupyter-widgets/controls",
            "_model_module_version": "1.5.0",
            "_model_name": "FloatProgressModel",
            "_view_count": null,
            "_view_module": "@jupyter-widgets/controls",
            "_view_module_version": "1.5.0",
            "_view_name": "ProgressView",
            "bar_style": "success",
            "description": "",
            "description_tooltip": null,
            "layout": "IPY_MODEL_6fc82410f9954ca19506325fe089a93f",
            "max": 53348075,
            "min": 0,
            "orientation": "horizontal",
            "style": "IPY_MODEL_81a651bbe3444a7a98dba187f97d2611",
            "value": 53348075
          }
        },
        "b4338ff86b2541e39186f180c7f4b5e1": {
          "model_module": "@jupyter-widgets/controls",
          "model_name": "HTMLModel",
          "model_module_version": "1.5.0",
          "state": {
            "_dom_classes": [],
            "_model_module": "@jupyter-widgets/controls",
            "_model_module_version": "1.5.0",
            "_model_name": "HTMLModel",
            "_view_count": null,
            "_view_module": "@jupyter-widgets/controls",
            "_view_module_version": "1.5.0",
            "_view_name": "HTMLView",
            "description": "",
            "description_tooltip": null,
            "layout": "IPY_MODEL_726eab44540246668b7150c4d19f2c0b",
            "placeholder": "​",
            "style": "IPY_MODEL_5f69691a5ced48d8961e4d4ac9dda5d3",
            "value": " 50.9M/50.9M [00:03&lt;00:00, 13.1MB/s]"
          }
        },
        "cdbdbdaabe0b486989d27aeed31be089": {
          "model_module": "@jupyter-widgets/base",
          "model_name": "LayoutModel",
          "model_module_version": "1.2.0",
          "state": {
            "_model_module": "@jupyter-widgets/base",
            "_model_module_version": "1.2.0",
            "_model_name": "LayoutModel",
            "_view_count": null,
            "_view_module": "@jupyter-widgets/base",
            "_view_module_version": "1.2.0",
            "_view_name": "LayoutView",
            "align_content": null,
            "align_items": null,
            "align_self": null,
            "border": null,
            "bottom": null,
            "display": null,
            "flex": null,
            "flex_flow": null,
            "grid_area": null,
            "grid_auto_columns": null,
            "grid_auto_flow": null,
            "grid_auto_rows": null,
            "grid_column": null,
            "grid_gap": null,
            "grid_row": null,
            "grid_template_areas": null,
            "grid_template_columns": null,
            "grid_template_rows": null,
            "height": null,
            "justify_content": null,
            "justify_items": null,
            "left": null,
            "margin": null,
            "max_height": null,
            "max_width": null,
            "min_height": null,
            "min_width": null,
            "object_fit": null,
            "object_position": null,
            "order": null,
            "overflow": null,
            "overflow_x": null,
            "overflow_y": null,
            "padding": null,
            "right": null,
            "top": null,
            "visibility": null,
            "width": null
          }
        },
        "b2177ef5d4d84a0a9b55020ec937f40e": {
          "model_module": "@jupyter-widgets/base",
          "model_name": "LayoutModel",
          "model_module_version": "1.2.0",
          "state": {
            "_model_module": "@jupyter-widgets/base",
            "_model_module_version": "1.2.0",
            "_model_name": "LayoutModel",
            "_view_count": null,
            "_view_module": "@jupyter-widgets/base",
            "_view_module_version": "1.2.0",
            "_view_name": "LayoutView",
            "align_content": null,
            "align_items": null,
            "align_self": null,
            "border": null,
            "bottom": null,
            "display": null,
            "flex": null,
            "flex_flow": null,
            "grid_area": null,
            "grid_auto_columns": null,
            "grid_auto_flow": null,
            "grid_auto_rows": null,
            "grid_column": null,
            "grid_gap": null,
            "grid_row": null,
            "grid_template_areas": null,
            "grid_template_columns": null,
            "grid_template_rows": null,
            "height": null,
            "justify_content": null,
            "justify_items": null,
            "left": null,
            "margin": null,
            "max_height": null,
            "max_width": null,
            "min_height": null,
            "min_width": null,
            "object_fit": null,
            "object_position": null,
            "order": null,
            "overflow": null,
            "overflow_x": null,
            "overflow_y": null,
            "padding": null,
            "right": null,
            "top": null,
            "visibility": null,
            "width": null
          }
        },
        "db11e65d2d10492b80c72aa51722febd": {
          "model_module": "@jupyter-widgets/controls",
          "model_name": "DescriptionStyleModel",
          "model_module_version": "1.5.0",
          "state": {
            "_model_module": "@jupyter-widgets/controls",
            "_model_module_version": "1.5.0",
            "_model_name": "DescriptionStyleModel",
            "_view_count": null,
            "_view_module": "@jupyter-widgets/base",
            "_view_module_version": "1.2.0",
            "_view_name": "StyleView",
            "description_width": ""
          }
        },
        "6fc82410f9954ca19506325fe089a93f": {
          "model_module": "@jupyter-widgets/base",
          "model_name": "LayoutModel",
          "model_module_version": "1.2.0",
          "state": {
            "_model_module": "@jupyter-widgets/base",
            "_model_module_version": "1.2.0",
            "_model_name": "LayoutModel",
            "_view_count": null,
            "_view_module": "@jupyter-widgets/base",
            "_view_module_version": "1.2.0",
            "_view_name": "LayoutView",
            "align_content": null,
            "align_items": null,
            "align_self": null,
            "border": null,
            "bottom": null,
            "display": null,
            "flex": null,
            "flex_flow": null,
            "grid_area": null,
            "grid_auto_columns": null,
            "grid_auto_flow": null,
            "grid_auto_rows": null,
            "grid_column": null,
            "grid_gap": null,
            "grid_row": null,
            "grid_template_areas": null,
            "grid_template_columns": null,
            "grid_template_rows": null,
            "height": null,
            "justify_content": null,
            "justify_items": null,
            "left": null,
            "margin": null,
            "max_height": null,
            "max_width": null,
            "min_height": null,
            "min_width": null,
            "object_fit": null,
            "object_position": null,
            "order": null,
            "overflow": null,
            "overflow_x": null,
            "overflow_y": null,
            "padding": null,
            "right": null,
            "top": null,
            "visibility": null,
            "width": null
          }
        },
        "81a651bbe3444a7a98dba187f97d2611": {
          "model_module": "@jupyter-widgets/controls",
          "model_name": "ProgressStyleModel",
          "model_module_version": "1.5.0",
          "state": {
            "_model_module": "@jupyter-widgets/controls",
            "_model_module_version": "1.5.0",
            "_model_name": "ProgressStyleModel",
            "_view_count": null,
            "_view_module": "@jupyter-widgets/base",
            "_view_module_version": "1.2.0",
            "_view_name": "StyleView",
            "bar_color": null,
            "description_width": ""
          }
        },
        "726eab44540246668b7150c4d19f2c0b": {
          "model_module": "@jupyter-widgets/base",
          "model_name": "LayoutModel",
          "model_module_version": "1.2.0",
          "state": {
            "_model_module": "@jupyter-widgets/base",
            "_model_module_version": "1.2.0",
            "_model_name": "LayoutModel",
            "_view_count": null,
            "_view_module": "@jupyter-widgets/base",
            "_view_module_version": "1.2.0",
            "_view_name": "LayoutView",
            "align_content": null,
            "align_items": null,
            "align_self": null,
            "border": null,
            "bottom": null,
            "display": null,
            "flex": null,
            "flex_flow": null,
            "grid_area": null,
            "grid_auto_columns": null,
            "grid_auto_flow": null,
            "grid_auto_rows": null,
            "grid_column": null,
            "grid_gap": null,
            "grid_row": null,
            "grid_template_areas": null,
            "grid_template_columns": null,
            "grid_template_rows": null,
            "height": null,
            "justify_content": null,
            "justify_items": null,
            "left": null,
            "margin": null,
            "max_height": null,
            "max_width": null,
            "min_height": null,
            "min_width": null,
            "object_fit": null,
            "object_position": null,
            "order": null,
            "overflow": null,
            "overflow_x": null,
            "overflow_y": null,
            "padding": null,
            "right": null,
            "top": null,
            "visibility": null,
            "width": null
          }
        },
        "5f69691a5ced48d8961e4d4ac9dda5d3": {
          "model_module": "@jupyter-widgets/controls",
          "model_name": "DescriptionStyleModel",
          "model_module_version": "1.5.0",
          "state": {
            "_model_module": "@jupyter-widgets/controls",
            "_model_module_version": "1.5.0",
            "_model_name": "DescriptionStyleModel",
            "_view_count": null,
            "_view_module": "@jupyter-widgets/base",
            "_view_module_version": "1.2.0",
            "_view_name": "StyleView",
            "description_width": ""
          }
        },
        "5dbed6e37c914c028ad47db345c11e2a": {
          "model_module": "@jupyter-widgets/controls",
          "model_name": "HBoxModel",
          "model_module_version": "1.5.0",
          "state": {
            "_dom_classes": [],
            "_model_module": "@jupyter-widgets/controls",
            "_model_module_version": "1.5.0",
            "_model_name": "HBoxModel",
            "_view_count": null,
            "_view_module": "@jupyter-widgets/controls",
            "_view_module_version": "1.5.0",
            "_view_name": "HBoxView",
            "box_style": "",
            "children": [
              "IPY_MODEL_e3bf50c92c3141c1800b6545b003ad90",
              "IPY_MODEL_88b65cfe6d854744afaf5a0c319d4e8a",
              "IPY_MODEL_63beccf09a974020a4ff9399dd78079c"
            ],
            "layout": "IPY_MODEL_c18e57e5daf04c489f7c17574ededb3a"
          }
        },
        "e3bf50c92c3141c1800b6545b003ad90": {
          "model_module": "@jupyter-widgets/controls",
          "model_name": "HTMLModel",
          "model_module_version": "1.5.0",
          "state": {
            "_dom_classes": [],
            "_model_module": "@jupyter-widgets/controls",
            "_model_module_version": "1.5.0",
            "_model_name": "HTMLModel",
            "_view_count": null,
            "_view_module": "@jupyter-widgets/controls",
            "_view_module_version": "1.5.0",
            "_view_name": "HTMLView",
            "description": "",
            "description_tooltip": null,
            "layout": "IPY_MODEL_9d2ae098eacf4286b4df3e2493c5999a",
            "placeholder": "​",
            "style": "IPY_MODEL_f8a6806f9361470c8820efc039d7cbdb",
            "value": "100%"
          }
        },
        "88b65cfe6d854744afaf5a0c319d4e8a": {
          "model_module": "@jupyter-widgets/controls",
          "model_name": "FloatProgressModel",
          "model_module_version": "1.5.0",
          "state": {
            "_dom_classes": [],
            "_model_module": "@jupyter-widgets/controls",
            "_model_module_version": "1.5.0",
            "_model_name": "FloatProgressModel",
            "_view_count": null,
            "_view_module": "@jupyter-widgets/controls",
            "_view_module_version": "1.5.0",
            "_view_name": "ProgressView",
            "bar_style": "success",
            "description": "",
            "description_tooltip": null,
            "layout": "IPY_MODEL_4268a72211bb4cf383a6fae20cd4882b",
            "max": 96503107,
            "min": 0,
            "orientation": "horizontal",
            "style": "IPY_MODEL_a1715d8513aa4a139a48c37a127136fa",
            "value": 96503107
          }
        },
        "63beccf09a974020a4ff9399dd78079c": {
          "model_module": "@jupyter-widgets/controls",
          "model_name": "HTMLModel",
          "model_module_version": "1.5.0",
          "state": {
            "_dom_classes": [],
            "_model_module": "@jupyter-widgets/controls",
            "_model_module_version": "1.5.0",
            "_model_name": "HTMLModel",
            "_view_count": null,
            "_view_module": "@jupyter-widgets/controls",
            "_view_module_version": "1.5.0",
            "_view_name": "HTMLView",
            "description": "",
            "description_tooltip": null,
            "layout": "IPY_MODEL_c855a88304564f46a2147ab54e6ab7ef",
            "placeholder": "​",
            "style": "IPY_MODEL_1cf616401cec498d876e522209273e42",
            "value": " 92.0M/92.0M [00:11&lt;00:00, 6.75MB/s]"
          }
        },
        "c18e57e5daf04c489f7c17574ededb3a": {
          "model_module": "@jupyter-widgets/base",
          "model_name": "LayoutModel",
          "model_module_version": "1.2.0",
          "state": {
            "_model_module": "@jupyter-widgets/base",
            "_model_module_version": "1.2.0",
            "_model_name": "LayoutModel",
            "_view_count": null,
            "_view_module": "@jupyter-widgets/base",
            "_view_module_version": "1.2.0",
            "_view_name": "LayoutView",
            "align_content": null,
            "align_items": null,
            "align_self": null,
            "border": null,
            "bottom": null,
            "display": null,
            "flex": null,
            "flex_flow": null,
            "grid_area": null,
            "grid_auto_columns": null,
            "grid_auto_flow": null,
            "grid_auto_rows": null,
            "grid_column": null,
            "grid_gap": null,
            "grid_row": null,
            "grid_template_areas": null,
            "grid_template_columns": null,
            "grid_template_rows": null,
            "height": null,
            "justify_content": null,
            "justify_items": null,
            "left": null,
            "margin": null,
            "max_height": null,
            "max_width": null,
            "min_height": null,
            "min_width": null,
            "object_fit": null,
            "object_position": null,
            "order": null,
            "overflow": null,
            "overflow_x": null,
            "overflow_y": null,
            "padding": null,
            "right": null,
            "top": null,
            "visibility": null,
            "width": null
          }
        },
        "9d2ae098eacf4286b4df3e2493c5999a": {
          "model_module": "@jupyter-widgets/base",
          "model_name": "LayoutModel",
          "model_module_version": "1.2.0",
          "state": {
            "_model_module": "@jupyter-widgets/base",
            "_model_module_version": "1.2.0",
            "_model_name": "LayoutModel",
            "_view_count": null,
            "_view_module": "@jupyter-widgets/base",
            "_view_module_version": "1.2.0",
            "_view_name": "LayoutView",
            "align_content": null,
            "align_items": null,
            "align_self": null,
            "border": null,
            "bottom": null,
            "display": null,
            "flex": null,
            "flex_flow": null,
            "grid_area": null,
            "grid_auto_columns": null,
            "grid_auto_flow": null,
            "grid_auto_rows": null,
            "grid_column": null,
            "grid_gap": null,
            "grid_row": null,
            "grid_template_areas": null,
            "grid_template_columns": null,
            "grid_template_rows": null,
            "height": null,
            "justify_content": null,
            "justify_items": null,
            "left": null,
            "margin": null,
            "max_height": null,
            "max_width": null,
            "min_height": null,
            "min_width": null,
            "object_fit": null,
            "object_position": null,
            "order": null,
            "overflow": null,
            "overflow_x": null,
            "overflow_y": null,
            "padding": null,
            "right": null,
            "top": null,
            "visibility": null,
            "width": null
          }
        },
        "f8a6806f9361470c8820efc039d7cbdb": {
          "model_module": "@jupyter-widgets/controls",
          "model_name": "DescriptionStyleModel",
          "model_module_version": "1.5.0",
          "state": {
            "_model_module": "@jupyter-widgets/controls",
            "_model_module_version": "1.5.0",
            "_model_name": "DescriptionStyleModel",
            "_view_count": null,
            "_view_module": "@jupyter-widgets/base",
            "_view_module_version": "1.2.0",
            "_view_name": "StyleView",
            "description_width": ""
          }
        },
        "4268a72211bb4cf383a6fae20cd4882b": {
          "model_module": "@jupyter-widgets/base",
          "model_name": "LayoutModel",
          "model_module_version": "1.2.0",
          "state": {
            "_model_module": "@jupyter-widgets/base",
            "_model_module_version": "1.2.0",
            "_model_name": "LayoutModel",
            "_view_count": null,
            "_view_module": "@jupyter-widgets/base",
            "_view_module_version": "1.2.0",
            "_view_name": "LayoutView",
            "align_content": null,
            "align_items": null,
            "align_self": null,
            "border": null,
            "bottom": null,
            "display": null,
            "flex": null,
            "flex_flow": null,
            "grid_area": null,
            "grid_auto_columns": null,
            "grid_auto_flow": null,
            "grid_auto_rows": null,
            "grid_column": null,
            "grid_gap": null,
            "grid_row": null,
            "grid_template_areas": null,
            "grid_template_columns": null,
            "grid_template_rows": null,
            "height": null,
            "justify_content": null,
            "justify_items": null,
            "left": null,
            "margin": null,
            "max_height": null,
            "max_width": null,
            "min_height": null,
            "min_width": null,
            "object_fit": null,
            "object_position": null,
            "order": null,
            "overflow": null,
            "overflow_x": null,
            "overflow_y": null,
            "padding": null,
            "right": null,
            "top": null,
            "visibility": null,
            "width": null
          }
        },
        "a1715d8513aa4a139a48c37a127136fa": {
          "model_module": "@jupyter-widgets/controls",
          "model_name": "ProgressStyleModel",
          "model_module_version": "1.5.0",
          "state": {
            "_model_module": "@jupyter-widgets/controls",
            "_model_module_version": "1.5.0",
            "_model_name": "ProgressStyleModel",
            "_view_count": null,
            "_view_module": "@jupyter-widgets/base",
            "_view_module_version": "1.2.0",
            "_view_name": "StyleView",
            "bar_color": null,
            "description_width": ""
          }
        },
        "c855a88304564f46a2147ab54e6ab7ef": {
          "model_module": "@jupyter-widgets/base",
          "model_name": "LayoutModel",
          "model_module_version": "1.2.0",
          "state": {
            "_model_module": "@jupyter-widgets/base",
            "_model_module_version": "1.2.0",
            "_model_name": "LayoutModel",
            "_view_count": null,
            "_view_module": "@jupyter-widgets/base",
            "_view_module_version": "1.2.0",
            "_view_name": "LayoutView",
            "align_content": null,
            "align_items": null,
            "align_self": null,
            "border": null,
            "bottom": null,
            "display": null,
            "flex": null,
            "flex_flow": null,
            "grid_area": null,
            "grid_auto_columns": null,
            "grid_auto_flow": null,
            "grid_auto_rows": null,
            "grid_column": null,
            "grid_gap": null,
            "grid_row": null,
            "grid_template_areas": null,
            "grid_template_columns": null,
            "grid_template_rows": null,
            "height": null,
            "justify_content": null,
            "justify_items": null,
            "left": null,
            "margin": null,
            "max_height": null,
            "max_width": null,
            "min_height": null,
            "min_width": null,
            "object_fit": null,
            "object_position": null,
            "order": null,
            "overflow": null,
            "overflow_x": null,
            "overflow_y": null,
            "padding": null,
            "right": null,
            "top": null,
            "visibility": null,
            "width": null
          }
        },
        "1cf616401cec498d876e522209273e42": {
          "model_module": "@jupyter-widgets/controls",
          "model_name": "DescriptionStyleModel",
          "model_module_version": "1.5.0",
          "state": {
            "_model_module": "@jupyter-widgets/controls",
            "_model_module_version": "1.5.0",
            "_model_name": "DescriptionStyleModel",
            "_view_count": null,
            "_view_module": "@jupyter-widgets/base",
            "_view_module_version": "1.2.0",
            "_view_name": "StyleView",
            "description_width": ""
          }
        }
      }
    }
  },
  "cells": [
    {
      "cell_type": "markdown",
      "metadata": {
        "id": "view-in-github",
        "colab_type": "text"
      },
      "source": [
        "<a href=\"https://colab.research.google.com/github/shumshersubashgautam/Yolo_Classification_Autism-/blob/main/Yolov5_Yolov8_Autism_Classify.ipynb\" target=\"_parent\"><img src=\"https://colab.research.google.com/assets/colab-badge.svg\" alt=\"Open In Colab\"/></a>"
      ]
    },
    {
      "cell_type": "code",
      "execution_count": 1,
      "metadata": {
        "colab": {
          "base_uri": "https://localhost:8080/"
        },
        "id": "C2kdZyr77V9B",
        "outputId": "ff605d66-b99b-493c-c8fb-2642dc725f53"
      },
      "outputs": [
        {
          "output_type": "stream",
          "name": "stdout",
          "text": [
            "Sat Mar 11 11:07:10 2023       \n",
            "+-----------------------------------------------------------------------------+\n",
            "| NVIDIA-SMI 525.85.12    Driver Version: 525.85.12    CUDA Version: 12.0     |\n",
            "|-------------------------------+----------------------+----------------------+\n",
            "| GPU  Name        Persistence-M| Bus-Id        Disp.A | Volatile Uncorr. ECC |\n",
            "| Fan  Temp  Perf  Pwr:Usage/Cap|         Memory-Usage | GPU-Util  Compute M. |\n",
            "|                               |                      |               MIG M. |\n",
            "|===============================+======================+======================|\n",
            "|   0  Tesla T4            Off  | 00000000:00:04.0 Off |                    0 |\n",
            "| N/A   69C    P0    31W /  70W |      0MiB / 15360MiB |      0%      Default |\n",
            "|                               |                      |                  N/A |\n",
            "+-------------------------------+----------------------+----------------------+\n",
            "                                                                               \n",
            "+-----------------------------------------------------------------------------+\n",
            "| Processes:                                                                  |\n",
            "|  GPU   GI   CI        PID   Type   Process name                  GPU Memory |\n",
            "|        ID   ID                                                   Usage      |\n",
            "|=============================================================================|\n",
            "|  No running processes found                                                 |\n",
            "+-----------------------------------------------------------------------------+\n"
          ]
        }
      ],
      "source": [
        "!nvidia-smi"
      ]
    },
    {
      "cell_type": "code",
      "source": [
        "from google.colab import drive\n",
        "\n",
        "drive.mount('/content/gdrive')\n",
        "\n"
      ],
      "metadata": {
        "colab": {
          "base_uri": "https://localhost:8080/"
        },
        "id": "I_dzQPam7p7r",
        "outputId": "0442bb5e-7d0e-4ec8-b447-1b1e2b84f52a"
      },
      "execution_count": 2,
      "outputs": [
        {
          "output_type": "stream",
          "name": "stdout",
          "text": [
            "Mounted at /content/gdrive\n"
          ]
        }
      ]
    },
    {
      "cell_type": "code",
      "source": [
        "!cp /content/gdrive/MyDrive/autism.zip /content/"
      ],
      "metadata": {
        "id": "9LUifzR19Vnb"
      },
      "execution_count": 3,
      "outputs": []
    },
    {
      "cell_type": "code",
      "source": [
        "import os\n",
        "HOME = os.getcwd()\n",
        "print(HOME)"
      ],
      "metadata": {
        "colab": {
          "base_uri": "https://localhost:8080/"
        },
        "id": "gkuva4np9rMo",
        "outputId": "e49e330a-7b59-478a-9914-71aa1be3ec3a"
      },
      "execution_count": 4,
      "outputs": [
        {
          "output_type": "stream",
          "name": "stdout",
          "text": [
            "/content\n"
          ]
        }
      ]
    },
    {
      "cell_type": "code",
      "source": [
        "# Pip install method (recommended)\n",
        "\n",
        "!pip install ultralytics\n",
        "\n",
        "from IPython import display\n",
        "display.clear_output()\n",
        "\n",
        "import ultralytics\n",
        "ultralytics.checks()"
      ],
      "metadata": {
        "colab": {
          "base_uri": "https://localhost:8080/"
        },
        "id": "SDlkGHan93tW",
        "outputId": "852eaf50-9cb3-4878-f77c-7298b1195580"
      },
      "execution_count": 5,
      "outputs": [
        {
          "output_type": "stream",
          "name": "stderr",
          "text": [
            "Ultralytics YOLOv8.0.52 🚀 Python-3.9.16 torch-1.13.1+cu116 CUDA:0 (Tesla T4, 15102MiB)\n",
            "Setup complete ✅ (2 CPUs, 12.7 GB RAM, 25.6/78.2 GB disk)\n"
          ]
        }
      ]
    },
    {
      "cell_type": "code",
      "source": [
        "from ultralytics import YOLO\n",
        "\n",
        "from IPython.display import display, Image"
      ],
      "metadata": {
        "id": "NfXlVV90963m"
      },
      "execution_count": 6,
      "outputs": []
    },
    {
      "cell_type": "code",
      "source": [],
      "metadata": {
        "id": "blE2RtJSXL_R"
      },
      "execution_count": 10,
      "outputs": []
    },
    {
      "cell_type": "code",
      "source": [
        "%cd {HOME}\n",
        "!yolo task=classify mode=predict model=yolov8n-cls.pt conf=0.25 source='https://media.roboflow.com/notebooks/examples/dog.jpeg'"
      ],
      "metadata": {
        "colab": {
          "base_uri": "https://localhost:8080/"
        },
        "id": "anIexQGN-BJ4",
        "outputId": "2c71c945-3f3d-4ebf-e542-599b19a3ff8e"
      },
      "execution_count": 7,
      "outputs": [
        {
          "output_type": "stream",
          "name": "stdout",
          "text": [
            "/content\n",
            "Downloading https://github.com/ultralytics/assets/releases/download/v0.0.0/yolov8n-cls.pt to yolov8n-cls.pt...\n",
            "100% 5.28M/5.28M [00:00<00:00, 12.3MB/s]\n",
            "Ultralytics YOLOv8.0.52 🚀 Python-3.9.16 torch-1.13.1+cu116 CUDA:0 (Tesla T4, 15102MiB)\n",
            "YOLOv8n-cls summary (fused): 73 layers, 2715880 parameters, 0 gradients, 4.3 GFLOPs\n",
            "\n",
            "Downloading https://media.roboflow.com/notebooks/examples/dog.jpeg to dog.jpeg...\n",
            "100% 104k/104k [00:00<00:00, 64.1MB/s]\n",
            "Downloading https://ultralytics.com/assets/Arial.ttf to /root/.config/Ultralytics/Arial.ttf...\n",
            "100% 755k/755k [00:00<00:00, 102MB/s]\n",
            "image 1/1 /content/dog.jpeg: 224x224 beagle 0.40, basset 0.40, Walker_hound 0.08, English_foxhound 0.03, bloodhound 0.02, 3.8ms\n",
            "Speed: 0.3ms preprocess, 3.8ms inference, 0.1ms postprocess per image at shape (1, 3, 224, 224)\n"
          ]
        }
      ]
    },
    {
      "cell_type": "code",
      "source": [
        "model = YOLO(f'{HOME}/yolov8n-cls.pt')\n",
        "results = model.predict(source='https://media.roboflow.com/notebooks/examples/dog.jpeg', conf=0.25)"
      ],
      "metadata": {
        "colab": {
          "base_uri": "https://localhost:8080/"
        },
        "id": "3n3bdgnk-FP_",
        "outputId": "06b1b03f-c83d-499f-9028-2e6f4f8d6c46"
      },
      "execution_count": 11,
      "outputs": [
        {
          "output_type": "stream",
          "name": "stderr",
          "text": [
            "\n",
            "Found https://media.roboflow.com/notebooks/examples/dog.jpeg locally at dog.jpeg\n",
            "image 1/1 /content/dog.jpeg: 224x224 beagle 0.40, basset 0.40, Walker_hound 0.08, English_foxhound 0.03, bloodhound 0.02, 3.9ms\n",
            "Speed: 0.4ms preprocess, 3.9ms inference, 0.1ms postprocess per image at shape (1, 3, 224, 224)\n"
          ]
        }
      ]
    },
    {
      "cell_type": "code",
      "source": [
        "%cd {HOME}\n",
        "\n",
        "!yolo task=classify mode=train model=yolov8n-cls.pt data=/content/autism epochs=10 imgsz=128"
      ],
      "metadata": {
        "colab": {
          "base_uri": "https://localhost:8080/"
        },
        "id": "_Mflw7hw-bXI",
        "outputId": "c5ed19f1-3a04-4b63-a034-9cc9a8d212dc"
      },
      "execution_count": 12,
      "outputs": [
        {
          "output_type": "stream",
          "name": "stdout",
          "text": [
            "/content\n",
            "Ultralytics YOLOv8.0.52 🚀 Python-3.9.16 torch-1.13.1+cu116 CUDA:0 (Tesla T4, 15102MiB)\n",
            "\u001b[34m\u001b[1myolo/engine/trainer: \u001b[0mtask=classify, mode=train, model=yolov8n-cls.pt, data=/content/autism, epochs=10, patience=50, batch=16, imgsz=128, save=True, save_period=-1, cache=False, device=None, workers=8, project=None, name=None, exist_ok=False, pretrained=False, optimizer=SGD, verbose=True, seed=0, deterministic=True, single_cls=False, image_weights=False, rect=False, cos_lr=False, close_mosaic=10, resume=False, overlap_mask=True, mask_ratio=4, dropout=0.0, val=True, split=val, save_json=False, save_hybrid=False, conf=None, iou=0.7, max_det=300, half=False, dnn=False, plots=True, source=None, show=False, save_txt=False, save_conf=False, save_crop=False, hide_labels=False, hide_conf=False, vid_stride=1, line_thickness=3, visualize=False, augment=False, agnostic_nms=False, classes=None, retina_masks=False, boxes=True, format=torchscript, keras=False, optimize=False, int8=False, dynamic=False, simplify=False, opset=None, workspace=4, nms=False, lr0=0.01, lrf=0.01, momentum=0.937, weight_decay=0.0005, warmup_epochs=3.0, warmup_momentum=0.8, warmup_bias_lr=0.1, box=7.5, cls=0.5, dfl=1.5, fl_gamma=0.0, label_smoothing=0.0, nbs=64, hsv_h=0.015, hsv_s=0.7, hsv_v=0.4, degrees=0.0, translate=0.1, scale=0.5, shear=0.0, perspective=0.0, flipud=0.0, fliplr=0.5, mosaic=1.0, mixup=0.0, copy_paste=0.0, cfg=None, v5loader=False, tracker=botsort.yaml, save_dir=runs/classify/train\n",
            "Overriding model.yaml nc=1000 with nc=2\n",
            "\n",
            "                   from  n    params  module                                       arguments                     \n",
            "  0                  -1  1       464  ultralytics.nn.modules.Conv                  [3, 16, 3, 2]                 \n",
            "  1                  -1  1      4672  ultralytics.nn.modules.Conv                  [16, 32, 3, 2]                \n",
            "  2                  -1  1      7360  ultralytics.nn.modules.C2f                   [32, 32, 1, True]             \n",
            "  3                  -1  1     18560  ultralytics.nn.modules.Conv                  [32, 64, 3, 2]                \n",
            "  4                  -1  2     49664  ultralytics.nn.modules.C2f                   [64, 64, 2, True]             \n",
            "  5                  -1  1     73984  ultralytics.nn.modules.Conv                  [64, 128, 3, 2]               \n",
            "  6                  -1  2    197632  ultralytics.nn.modules.C2f                   [128, 128, 2, True]           \n",
            "  7                  -1  1    295424  ultralytics.nn.modules.Conv                  [128, 256, 3, 2]              \n",
            "  8                  -1  1    460288  ultralytics.nn.modules.C2f                   [256, 256, 1, True]           \n",
            "  9                  -1  1    332802  ultralytics.nn.modules.Classify              [256, 2]                      \n",
            "YOLOv8n-cls summary: 99 layers, 1440850 parameters, 1440850 gradients, 3.4 GFLOPs\n",
            "2023-03-11 11:11:40.368667: I tensorflow/core/platform/cpu_feature_guard.cc:193] This TensorFlow binary is optimized with oneAPI Deep Neural Network Library (oneDNN) to use the following CPU instructions in performance-critical operations:  AVX2 FMA\n",
            "To enable them in other operations, rebuild TensorFlow with the appropriate compiler flags.\n",
            "2023-03-11 11:11:41.637357: W tensorflow/compiler/xla/stream_executor/platform/default/dso_loader.cc:64] Could not load dynamic library 'libnvinfer.so.7'; dlerror: libnvinfer.so.7: cannot open shared object file: No such file or directory; LD_LIBRARY_PATH: /usr/local/lib/python3.9/dist-packages/cv2/../../lib64:/usr/local/lib/python3.9/dist-packages/cv2/../../lib64:/usr/lib64-nvidia\n",
            "2023-03-11 11:11:41.637507: W tensorflow/compiler/xla/stream_executor/platform/default/dso_loader.cc:64] Could not load dynamic library 'libnvinfer_plugin.so.7'; dlerror: libnvinfer_plugin.so.7: cannot open shared object file: No such file or directory; LD_LIBRARY_PATH: /usr/local/lib/python3.9/dist-packages/cv2/../../lib64:/usr/local/lib/python3.9/dist-packages/cv2/../../lib64:/usr/lib64-nvidia\n",
            "2023-03-11 11:11:41.637534: W tensorflow/compiler/tf2tensorrt/utils/py_utils.cc:38] TF-TRT Warning: Cannot dlopen some TensorRT libraries. If you would like to use Nvidia GPU with TensorRT, please make sure the missing libraries mentioned above are installed properly.\n",
            "\u001b[34m\u001b[1mAMP: \u001b[0mrunning Automatic Mixed Precision (AMP) checks with YOLOv8n...\n",
            "Downloading https://github.com/ultralytics/assets/releases/download/v0.0.0/yolov8n.pt to yolov8n.pt...\n",
            "100% 6.23M/6.23M [00:00<00:00, 239MB/s]\n",
            "\u001b[34m\u001b[1mAMP: \u001b[0mchecks passed ✅\n",
            "\u001b[34m\u001b[1moptimizer:\u001b[0m SGD(lr=0.01) with parameter groups 26 weight(decay=0.0), 27 weight(decay=0.0005), 27 bias\n",
            "\u001b[34m\u001b[1malbumentations: \u001b[0mRandomResizedCrop(p=1.0, height=128, width=128, scale=(0.08, 1.0), ratio=(0.75, 1.3333333333333333), interpolation=1), HorizontalFlip(p=0.5), ColorJitter(p=0.5, brightness=[0.6, 1.4], contrast=[0.6, 1.4], saturation=[0.6, 1.4], hue=[0, 0]), Normalize(p=1.0, mean=(0.485, 0.456, 0.406), std=(0.229, 0.224, 0.225), max_pixel_value=255.0), ToTensorV2(always_apply=True, p=1.0, transpose_mask=False)\n",
            "Image sizes 128 train, 128 val\n",
            "Using 2 dataloader workers\n",
            "Logging results to \u001b[1mruns/classify/train\u001b[0m\n",
            "Starting training for 10 epochs...\n",
            "Closing dataloader mosaic\n",
            "\n",
            "      Epoch    GPU_mem       loss  Instances       Size\n",
            "       1/10    0.0902G     0.1726         14        128: 100% 166/166 [00:16<00:00, 10.26it/s]\n",
            "               classes   top1_acc   top5_acc: 100% 5/5 [00:00<00:00, 24.43it/s]\n",
            "                   all      0.557          1\n",
            "\n",
            "      Epoch    GPU_mem       loss  Instances       Size\n",
            "       2/10     0.126G     0.1691         14        128: 100% 166/166 [00:14<00:00, 11.09it/s]\n",
            "               classes   top1_acc   top5_acc: 100% 5/5 [00:00<00:00, 16.19it/s]\n",
            "                   all      0.696          1\n",
            "\n",
            "      Epoch    GPU_mem       loss  Instances       Size\n",
            "       3/10     0.126G     0.1657         14        128: 100% 166/166 [00:14<00:00, 11.27it/s]\n",
            "               classes   top1_acc   top5_acc: 100% 5/5 [00:00<00:00, 29.04it/s]\n",
            "                   all      0.779          1\n",
            "\n",
            "      Epoch    GPU_mem       loss  Instances       Size\n",
            "       4/10     0.126G     0.1621         14        128: 100% 166/166 [00:13<00:00, 12.00it/s]\n",
            "               classes   top1_acc   top5_acc: 100% 5/5 [00:00<00:00, 41.40it/s]\n",
            "                   all      0.686          1\n",
            "\n",
            "      Epoch    GPU_mem       loss  Instances       Size\n",
            "       5/10     0.126G      0.161         14        128: 100% 166/166 [00:15<00:00, 10.69it/s]\n",
            "               classes   top1_acc   top5_acc: 100% 5/5 [00:00<00:00, 28.38it/s]\n",
            "                   all      0.789          1\n",
            "\n",
            "      Epoch    GPU_mem       loss  Instances       Size\n",
            "       6/10     0.126G     0.1609         14        128: 100% 166/166 [00:13<00:00, 12.58it/s]\n",
            "               classes   top1_acc   top5_acc: 100% 5/5 [00:00<00:00, 22.38it/s]\n",
            "                   all      0.761          1\n",
            "\n",
            "      Epoch    GPU_mem       loss  Instances       Size\n",
            "       7/10     0.126G     0.1572         14        128: 100% 166/166 [00:13<00:00, 12.52it/s]\n",
            "               classes   top1_acc   top5_acc: 100% 5/5 [00:00<00:00, 29.08it/s]\n",
            "                   all      0.854          1\n",
            "\n",
            "      Epoch    GPU_mem       loss  Instances       Size\n",
            "       8/10     0.126G     0.1519         14        128: 100% 166/166 [00:13<00:00, 12.37it/s]\n",
            "               classes   top1_acc   top5_acc: 100% 5/5 [00:00<00:00, 14.59it/s]\n",
            "                   all      0.786          1\n",
            "\n",
            "      Epoch    GPU_mem       loss  Instances       Size\n",
            "       9/10     0.126G       0.15         14        128: 100% 166/166 [00:14<00:00, 11.25it/s]\n",
            "               classes   top1_acc   top5_acc: 100% 5/5 [00:00<00:00, 28.40it/s]\n",
            "                   all      0.821          1\n",
            "\n",
            "      Epoch    GPU_mem       loss  Instances       Size\n",
            "      10/10     0.126G     0.1496         14        128: 100% 166/166 [00:13<00:00, 12.68it/s]\n",
            "               classes   top1_acc   top5_acc: 100% 5/5 [00:00<00:00, 28.00it/s]\n",
            "                   all      0.832          1\n",
            "\n",
            "10 epochs completed in 0.042 hours.\n",
            "Optimizer stripped from runs/classify/train/weights/last.pt, 3.0MB\n",
            "Optimizer stripped from runs/classify/train/weights/best.pt, 3.0MB\n",
            "Results saved to \u001b[1mruns/classify/train\u001b[0m\n"
          ]
        }
      ]
    },
    {
      "cell_type": "code",
      "source": [
        "!ls -la {HOME}/runs/classify/train/"
      ],
      "metadata": {
        "colab": {
          "base_uri": "https://localhost:8080/"
        },
        "id": "InU0xDbd--vH",
        "outputId": "62941e25-11d2-4b69-a669-10a9fbf7f8bd"
      },
      "execution_count": 13,
      "outputs": [
        {
          "output_type": "stream",
          "name": "stdout",
          "text": [
            "total 100\n",
            "drwxr-xr-x 3 root root  4096 Mar 11 11:12 .\n",
            "drwxr-xr-x 3 root root  4096 Mar 11 11:11 ..\n",
            "-rw-r--r-- 1 root root  1362 Mar 11 11:11 args.yaml\n",
            "-rw-r--r-- 1 root root 81360 Mar 11 11:14 events.out.tfevents.1678533103.6d8d2f9b4a78.1847.0\n",
            "-rw-r--r-- 1 root root  2112 Mar 11 11:14 results.csv\n",
            "drwxr-xr-x 2 root root  4096 Mar 11 11:12 weights\n"
          ]
        }
      ]
    },
    {
      "cell_type": "code",
      "source": [
        "!cat {HOME}/runs/classify/train/results.csv | head -10"
      ],
      "metadata": {
        "colab": {
          "base_uri": "https://localhost:8080/"
        },
        "id": "Ql5th-y9YUbP",
        "outputId": "720bd86c-55af-49fa-b154-c882dedf98e7"
      },
      "execution_count": 14,
      "outputs": [
        {
          "output_type": "stream",
          "name": "stdout",
          "text": [
            "                  epoch,             train/loss,  metrics/accuracy_top1,  metrics/accuracy_top5,               val/loss,                 lr/pg0,                 lr/pg1,                 lr/pg2\n",
            "                      0,                 0.1726,                0.55714,                      1,                0.60229,               0.070181,              0.0033133,              0.0033133\n",
            "                      1,                0.16914,                0.69643,                      1,                0.55012,               0.039523,              0.0059886,              0.0059886\n",
            "                      2,                0.16571,                0.77857,                      1,                0.51658,              0.0082047,              0.0080039,              0.0080039\n",
            "                      3,                0.16206,                0.68571,                      1,                 0.5458,                0.00703,                0.00703,                0.00703\n",
            "                      4,                  0.161,                0.78929,                      1,                0.51855,                0.00703,                0.00703,                0.00703\n",
            "                      5,                0.16091,                0.76071,                      1,                0.53123,                0.00604,                0.00604,                0.00604\n",
            "                      6,                0.15721,                0.85357,                      1,                0.49705,                0.00505,                0.00505,                0.00505\n",
            "                      7,                0.15188,                0.78571,                      1,                0.50283,                0.00406,                0.00406,                0.00406\n",
            "                      8,                0.15003,                0.82143,                      1,                0.47168,                0.00307,                0.00307,                0.00307\n"
          ]
        }
      ]
    },
    {
      "cell_type": "code",
      "source": [
        "%cd {HOME}\n",
        "\n",
        "!yolo task=classify mode=val model={HOME}/runs/classify/train/weights/best.pt data=/content/autism"
      ],
      "metadata": {
        "colab": {
          "base_uri": "https://localhost:8080/"
        },
        "id": "gzxsOXMuYd7m",
        "outputId": "4a126561-f526-4ad8-e42e-82821fcabe12"
      },
      "execution_count": 21,
      "outputs": [
        {
          "output_type": "stream",
          "name": "stdout",
          "text": [
            "/content\n",
            "Ultralytics YOLOv8.0.52 🚀 Python-3.9.16 torch-1.13.1+cu116 CUDA:0 (Tesla T4, 15102MiB)\n",
            "YOLOv8n-cls summary (fused): 73 layers, 1437442 parameters, 0 gradients, 3.3 GFLOPs\n",
            "\u001b[34m\u001b[1malbumentations: \u001b[0mRandomResizedCrop(p=1.0, height=128, width=128, scale=(0.08, 1.0), ratio=(0.75, 1.3333333333333333), interpolation=1), HorizontalFlip(p=0.5), ColorJitter(p=0.5, brightness=[0.6, 1.4], contrast=[0.6, 1.4], saturation=[0.6, 1.4], hue=[0, 0]), Normalize(p=1.0, mean=(0.485, 0.456, 0.406), std=(0.229, 0.224, 0.225), max_pixel_value=255.0), ToTensorV2(always_apply=True, p=1.0, transpose_mask=False)\n",
            "               classes   top1_acc   top5_acc: 100% 18/18 [00:01<00:00, 13.04it/s]\n",
            "                   all      0.732          1\n",
            "Speed: 0.0ms preprocess, 0.8ms inference, 0.0ms loss, 0.0ms postprocess per image\n",
            "Results saved to \u001b[1mruns/classify/val\u001b[0m\n"
          ]
        }
      ]
    },
    {
      "cell_type": "code",
      "source": [
        "%cd {HOME}\n",
        "!yolo task=classify mode=predict model={HOME}/runs/classify/train/weights/best.pt conf=0.25 source=./autism/test/Autistic/"
      ],
      "metadata": {
        "colab": {
          "base_uri": "https://localhost:8080/"
        },
        "id": "3Sxz0ro9ZC43",
        "outputId": "4479fee5-be66-4fb9-f7c8-e0daefe5271c"
      },
      "execution_count": 34,
      "outputs": [
        {
          "output_type": "stream",
          "name": "stdout",
          "text": [
            "/content\n",
            "Ultralytics YOLOv8.0.52 🚀 Python-3.9.16 torch-1.13.1+cu116 CUDA:0 (Tesla T4, 15102MiB)\n",
            "YOLOv8n-cls summary (fused): 73 layers, 1437442 parameters, 0 gradients, 3.3 GFLOPs\n",
            "\n",
            "image 1/140 /content/autism/test/Autistic/001.jpg: 128x128 Autistic 0.78, Non_Autistic 0.22, 4.3ms\n",
            "image 2/140 /content/autism/test/Autistic/002.jpg: 128x128 Autistic 0.82, Non_Autistic 0.18, 13.3ms\n",
            "image 3/140 /content/autism/test/Autistic/003.jpg: 128x128 Autistic 0.74, Non_Autistic 0.26, 4.3ms\n",
            "image 4/140 /content/autism/test/Autistic/004.jpg: 128x128 Autistic 0.59, Non_Autistic 0.41, 5.8ms\n",
            "image 5/140 /content/autism/test/Autistic/005.jpg: 128x128 Autistic 0.75, Non_Autistic 0.25, 4.6ms\n",
            "image 6/140 /content/autism/test/Autistic/006.jpg: 128x128 Autistic 0.81, Non_Autistic 0.19, 4.4ms\n",
            "image 7/140 /content/autism/test/Autistic/007.jpg: 128x128 Autistic 0.76, Non_Autistic 0.24, 4.3ms\n",
            "image 8/140 /content/autism/test/Autistic/008.jpg: 128x128 Autistic 0.53, Non_Autistic 0.47, 4.3ms\n",
            "image 9/140 /content/autism/test/Autistic/009.jpg: 128x128 Autistic 0.81, Non_Autistic 0.19, 6.4ms\n",
            "image 10/140 /content/autism/test/Autistic/010.jpg: 128x128 Autistic 0.90, Non_Autistic 0.10, 5.5ms\n",
            "image 11/140 /content/autism/test/Autistic/011.jpg: 128x128 Autistic 0.70, Non_Autistic 0.30, 4.2ms\n",
            "image 12/140 /content/autism/test/Autistic/012.jpg: 128x128 Non_Autistic 0.93, Autistic 0.07, 4.4ms\n",
            "image 13/140 /content/autism/test/Autistic/013.jpg: 128x128 Autistic 0.58, Non_Autistic 0.42, 4.3ms\n",
            "image 14/140 /content/autism/test/Autistic/014.jpg: 128x128 Autistic 0.59, Non_Autistic 0.41, 4.2ms\n",
            "image 15/140 /content/autism/test/Autistic/015.jpg: 128x128 Non_Autistic 0.71, Autistic 0.29, 4.1ms\n",
            "image 16/140 /content/autism/test/Autistic/016.jpg: 128x128 Non_Autistic 0.58, Autistic 0.42, 5.3ms\n",
            "image 17/140 /content/autism/test/Autistic/017.jpg: 128x128 Autistic 0.51, Non_Autistic 0.49, 4.3ms\n",
            "image 18/140 /content/autism/test/Autistic/018.jpg: 128x128 Non_Autistic 0.51, Autistic 0.49, 5.2ms\n",
            "image 19/140 /content/autism/test/Autistic/019.jpg: 128x128 Autistic 0.74, Non_Autistic 0.26, 5.2ms\n",
            "image 20/140 /content/autism/test/Autistic/020.jpg: 128x128 Non_Autistic 0.74, Autistic 0.26, 4.1ms\n",
            "image 21/140 /content/autism/test/Autistic/021.jpg: 128x128 Autistic 0.80, Non_Autistic 0.20, 4.1ms\n",
            "image 22/140 /content/autism/test/Autistic/022.jpg: 128x128 Autistic 0.76, Non_Autistic 0.24, 4.4ms\n",
            "image 23/140 /content/autism/test/Autistic/023.jpg: 128x128 Autistic 0.80, Non_Autistic 0.20, 4.6ms\n",
            "image 24/140 /content/autism/test/Autistic/024.jpg: 128x128 Autistic 0.71, Non_Autistic 0.29, 4.4ms\n",
            "image 25/140 /content/autism/test/Autistic/025.jpg: 128x128 Autistic 0.51, Non_Autistic 0.49, 4.2ms\n",
            "image 26/140 /content/autism/test/Autistic/026.jpg: 128x128 Autistic 0.77, Non_Autistic 0.23, 6.5ms\n",
            "image 27/140 /content/autism/test/Autistic/027.jpg: 128x128 Autistic 0.75, Non_Autistic 0.25, 4.7ms\n",
            "image 28/140 /content/autism/test/Autistic/028.jpg: 128x128 Autistic 0.69, Non_Autistic 0.31, 4.1ms\n",
            "image 29/140 /content/autism/test/Autistic/029.jpg: 128x128 Autistic 0.73, Non_Autistic 0.27, 4.0ms\n",
            "image 30/140 /content/autism/test/Autistic/030.jpg: 128x128 Autistic 0.78, Non_Autistic 0.22, 5.1ms\n",
            "image 31/140 /content/autism/test/Autistic/031.jpg: 128x128 Autistic 0.86, Non_Autistic 0.14, 4.2ms\n",
            "image 32/140 /content/autism/test/Autistic/032.jpg: 128x128 Autistic 0.77, Non_Autistic 0.23, 5.0ms\n",
            "image 33/140 /content/autism/test/Autistic/033.jpg: 128x128 Autistic 0.65, Non_Autistic 0.35, 4.4ms\n",
            "image 34/140 /content/autism/test/Autistic/034.jpg: 128x128 Autistic 0.74, Non_Autistic 0.26, 4.7ms\n",
            "image 35/140 /content/autism/test/Autistic/035.jpg: 128x128 Autistic 0.72, Non_Autistic 0.28, 4.0ms\n",
            "image 36/140 /content/autism/test/Autistic/036.jpg: 128x128 Autistic 0.58, Non_Autistic 0.42, 4.1ms\n",
            "image 37/140 /content/autism/test/Autistic/037.jpg: 128x128 Autistic 0.55, Non_Autistic 0.45, 4.0ms\n",
            "image 38/140 /content/autism/test/Autistic/038.jpg: 128x128 Autistic 0.71, Non_Autistic 0.29, 4.0ms\n",
            "image 39/140 /content/autism/test/Autistic/039.jpg: 128x128 Autistic 0.51, Non_Autistic 0.49, 4.2ms\n",
            "image 40/140 /content/autism/test/Autistic/040.jpg: 128x128 Autistic 0.74, Non_Autistic 0.26, 4.2ms\n",
            "image 41/140 /content/autism/test/Autistic/041.jpg: 128x128 Autistic 0.79, Non_Autistic 0.21, 4.1ms\n",
            "image 42/140 /content/autism/test/Autistic/042.jpg: 128x128 Autistic 0.86, Non_Autistic 0.14, 4.7ms\n",
            "image 43/140 /content/autism/test/Autistic/043.jpg: 128x128 Autistic 0.57, Non_Autistic 0.43, 4.2ms\n",
            "image 44/140 /content/autism/test/Autistic/044.jpg: 128x128 Autistic 0.76, Non_Autistic 0.24, 5.4ms\n",
            "image 45/140 /content/autism/test/Autistic/045.jpg: 128x128 Non_Autistic 0.64, Autistic 0.36, 4.1ms\n",
            "image 46/140 /content/autism/test/Autistic/046.jpg: 128x128 Autistic 0.57, Non_Autistic 0.43, 4.1ms\n",
            "image 47/140 /content/autism/test/Autistic/047.jpg: 128x128 Autistic 0.77, Non_Autistic 0.23, 4.2ms\n",
            "image 48/140 /content/autism/test/Autistic/048.jpg: 128x128 Autistic 0.79, Non_Autistic 0.21, 4.0ms\n",
            "image 49/140 /content/autism/test/Autistic/049.jpg: 128x128 Autistic 0.79, Non_Autistic 0.21, 4.3ms\n",
            "image 50/140 /content/autism/test/Autistic/050.jpg: 128x128 Autistic 0.79, Non_Autistic 0.21, 4.1ms\n",
            "image 51/140 /content/autism/test/Autistic/051.jpg: 128x128 Autistic 0.78, Non_Autistic 0.22, 4.9ms\n",
            "image 52/140 /content/autism/test/Autistic/052.jpg: 128x128 Non_Autistic 0.91, Autistic 0.09, 4.2ms\n",
            "image 53/140 /content/autism/test/Autistic/053.jpg: 128x128 Autistic 0.60, Non_Autistic 0.40, 4.1ms\n",
            "image 54/140 /content/autism/test/Autistic/054.jpg: 128x128 Non_Autistic 0.52, Autistic 0.48, 4.0ms\n",
            "image 55/140 /content/autism/test/Autistic/055.jpg: 128x128 Autistic 0.67, Non_Autistic 0.33, 4.3ms\n",
            "image 56/140 /content/autism/test/Autistic/056.jpg: 128x128 Autistic 0.66, Non_Autistic 0.34, 4.0ms\n",
            "image 57/140 /content/autism/test/Autistic/057.jpg: 128x128 Non_Autistic 0.55, Autistic 0.45, 4.1ms\n",
            "image 58/140 /content/autism/test/Autistic/058.jpg: 128x128 Non_Autistic 0.67, Autistic 0.33, 4.2ms\n",
            "image 59/140 /content/autism/test/Autistic/059.jpg: 128x128 Autistic 0.61, Non_Autistic 0.39, 4.1ms\n",
            "image 60/140 /content/autism/test/Autistic/060.jpg: 128x128 Non_Autistic 0.78, Autistic 0.22, 4.5ms\n",
            "image 61/140 /content/autism/test/Autistic/061.jpg: 128x128 Autistic 0.54, Non_Autistic 0.46, 4.1ms\n",
            "image 62/140 /content/autism/test/Autistic/062.jpg: 128x128 Autistic 0.56, Non_Autistic 0.44, 4.1ms\n",
            "image 63/140 /content/autism/test/Autistic/063.jpg: 128x128 Autistic 0.72, Non_Autistic 0.28, 4.1ms\n",
            "image 64/140 /content/autism/test/Autistic/064.jpg: 128x128 Non_Autistic 0.50, Autistic 0.50, 7.5ms\n",
            "image 65/140 /content/autism/test/Autistic/065.jpg: 128x128 Autistic 0.73, Non_Autistic 0.27, 8.0ms\n",
            "image 66/140 /content/autism/test/Autistic/066.jpg: 128x128 Autistic 0.68, Non_Autistic 0.32, 4.1ms\n",
            "image 67/140 /content/autism/test/Autistic/067.jpg: 128x128 Autistic 0.84, Non_Autistic 0.16, 4.0ms\n",
            "image 68/140 /content/autism/test/Autistic/068.jpg: 128x128 Non_Autistic 0.53, Autistic 0.47, 4.4ms\n",
            "image 69/140 /content/autism/test/Autistic/069.jpg: 128x128 Autistic 0.76, Non_Autistic 0.24, 4.3ms\n",
            "image 70/140 /content/autism/test/Autistic/070.jpg: 128x128 Autistic 0.67, Non_Autistic 0.33, 4.2ms\n",
            "image 71/140 /content/autism/test/Autistic/071.jpg: 128x128 Non_Autistic 0.81, Autistic 0.19, 4.2ms\n",
            "image 72/140 /content/autism/test/Autistic/072.jpg: 128x128 Non_Autistic 0.52, Autistic 0.48, 4.3ms\n",
            "image 73/140 /content/autism/test/Autistic/073.jpg: 128x128 Autistic 0.67, Non_Autistic 0.33, 4.5ms\n",
            "image 74/140 /content/autism/test/Autistic/074.jpg: 128x128 Autistic 0.79, Non_Autistic 0.21, 4.1ms\n",
            "image 75/140 /content/autism/test/Autistic/075.jpg: 128x128 Non_Autistic 0.54, Autistic 0.46, 4.3ms\n",
            "image 76/140 /content/autism/test/Autistic/076.jpg: 128x128 Autistic 0.70, Non_Autistic 0.30, 4.3ms\n",
            "image 77/140 /content/autism/test/Autistic/077.jpg: 128x128 Autistic 0.79, Non_Autistic 0.21, 4.2ms\n",
            "image 78/140 /content/autism/test/Autistic/078.jpg: 128x128 Autistic 0.69, Non_Autistic 0.31, 4.1ms\n",
            "image 79/140 /content/autism/test/Autistic/079.jpg: 128x128 Autistic 0.71, Non_Autistic 0.29, 4.1ms\n",
            "image 80/140 /content/autism/test/Autistic/080.jpg: 128x128 Autistic 0.75, Non_Autistic 0.25, 4.0ms\n",
            "image 81/140 /content/autism/test/Autistic/081.jpg: 128x128 Autistic 0.71, Non_Autistic 0.29, 4.2ms\n",
            "image 82/140 /content/autism/test/Autistic/082.jpg: 128x128 Non_Autistic 0.59, Autistic 0.41, 4.3ms\n",
            "image 83/140 /content/autism/test/Autistic/083.jpg: 128x128 Autistic 0.61, Non_Autistic 0.39, 4.1ms\n",
            "image 84/140 /content/autism/test/Autistic/084.jpg: 128x128 Autistic 0.63, Non_Autistic 0.37, 4.2ms\n",
            "image 85/140 /content/autism/test/Autistic/085.jpg: 128x128 Autistic 0.80, Non_Autistic 0.20, 4.1ms\n",
            "image 86/140 /content/autism/test/Autistic/086.jpg: 128x128 Autistic 0.70, Non_Autistic 0.30, 4.9ms\n",
            "image 87/140 /content/autism/test/Autistic/087.jpg: 128x128 Autistic 0.56, Non_Autistic 0.44, 4.1ms\n",
            "image 88/140 /content/autism/test/Autistic/088.jpg: 128x128 Autistic 0.57, Non_Autistic 0.43, 4.3ms\n",
            "image 89/140 /content/autism/test/Autistic/089.jpg: 128x128 Autistic 0.56, Non_Autistic 0.44, 4.1ms\n",
            "image 90/140 /content/autism/test/Autistic/090.jpg: 128x128 Autistic 0.80, Non_Autistic 0.20, 4.1ms\n",
            "image 91/140 /content/autism/test/Autistic/091.jpg: 128x128 Autistic 0.55, Non_Autistic 0.45, 4.4ms\n",
            "image 92/140 /content/autism/test/Autistic/092.jpg: 128x128 Autistic 0.56, Non_Autistic 0.44, 4.4ms\n",
            "image 93/140 /content/autism/test/Autistic/093.jpg: 128x128 Autistic 0.70, Non_Autistic 0.30, 4.4ms\n",
            "image 94/140 /content/autism/test/Autistic/094.jpg: 128x128 Non_Autistic 0.56, Autistic 0.44, 6.1ms\n",
            "image 95/140 /content/autism/test/Autistic/095.jpg: 128x128 Autistic 0.76, Non_Autistic 0.24, 4.2ms\n",
            "image 96/140 /content/autism/test/Autistic/096.jpg: 128x128 Autistic 0.77, Non_Autistic 0.23, 5.8ms\n",
            "image 97/140 /content/autism/test/Autistic/097.jpg: 128x128 Non_Autistic 0.62, Autistic 0.38, 5.1ms\n",
            "image 98/140 /content/autism/test/Autistic/098.jpg: 128x128 Autistic 0.62, Non_Autistic 0.38, 4.6ms\n",
            "image 99/140 /content/autism/test/Autistic/099.jpg: 128x128 Autistic 0.82, Non_Autistic 0.18, 5.4ms\n",
            "image 100/140 /content/autism/test/Autistic/100.jpg: 128x128 Non_Autistic 0.80, Autistic 0.20, 4.2ms\n",
            "image 101/140 /content/autism/test/Autistic/101.jpg: 128x128 Non_Autistic 0.88, Autistic 0.12, 4.2ms\n",
            "image 102/140 /content/autism/test/Autistic/102.jpg: 128x128 Non_Autistic 0.77, Autistic 0.23, 4.1ms\n",
            "image 103/140 /content/autism/test/Autistic/103.jpg: 128x128 Autistic 0.70, Non_Autistic 0.30, 5.2ms\n",
            "image 104/140 /content/autism/test/Autistic/104.jpg: 128x128 Non_Autistic 0.66, Autistic 0.34, 4.2ms\n",
            "image 105/140 /content/autism/test/Autistic/105.jpg: 128x128 Autistic 0.79, Non_Autistic 0.21, 4.1ms\n",
            "image 106/140 /content/autism/test/Autistic/106.jpg: 128x128 Autistic 0.73, Non_Autistic 0.27, 4.1ms\n",
            "image 107/140 /content/autism/test/Autistic/107.jpg: 128x128 Autistic 0.64, Non_Autistic 0.36, 4.0ms\n",
            "image 108/140 /content/autism/test/Autistic/108.jpg: 128x128 Autistic 0.67, Non_Autistic 0.33, 4.0ms\n",
            "image 109/140 /content/autism/test/Autistic/109.jpg: 128x128 Autistic 0.73, Non_Autistic 0.27, 4.1ms\n",
            "image 110/140 /content/autism/test/Autistic/110.jpg: 128x128 Autistic 0.81, Non_Autistic 0.19, 5.6ms\n",
            "image 111/140 /content/autism/test/Autistic/111.jpg: 128x128 Autistic 0.67, Non_Autistic 0.33, 5.1ms\n",
            "image 112/140 /content/autism/test/Autistic/112.jpg: 128x128 Autistic 0.73, Non_Autistic 0.27, 5.3ms\n",
            "image 113/140 /content/autism/test/Autistic/113.jpg: 128x128 Autistic 0.82, Non_Autistic 0.18, 5.3ms\n",
            "image 114/140 /content/autism/test/Autistic/114.jpg: 128x128 Autistic 0.58, Non_Autistic 0.42, 4.5ms\n",
            "image 115/140 /content/autism/test/Autistic/115.jpg: 128x128 Autistic 0.76, Non_Autistic 0.24, 4.1ms\n",
            "image 116/140 /content/autism/test/Autistic/116.jpg: 128x128 Autistic 0.74, Non_Autistic 0.26, 4.3ms\n",
            "image 117/140 /content/autism/test/Autistic/117.jpg: 128x128 Autistic 0.77, Non_Autistic 0.23, 4.2ms\n",
            "image 118/140 /content/autism/test/Autistic/118.jpg: 128x128 Autistic 0.56, Non_Autistic 0.44, 4.2ms\n",
            "image 119/140 /content/autism/test/Autistic/119.jpg: 128x128 Autistic 0.82, Non_Autistic 0.18, 4.0ms\n",
            "image 120/140 /content/autism/test/Autistic/120.jpg: 128x128 Autistic 0.74, Non_Autistic 0.26, 5.9ms\n",
            "image 121/140 /content/autism/test/Autistic/121.jpg: 128x128 Autistic 0.68, Non_Autistic 0.32, 5.2ms\n",
            "image 122/140 /content/autism/test/Autistic/122.jpg: 128x128 Autistic 0.80, Non_Autistic 0.20, 4.1ms\n",
            "image 123/140 /content/autism/test/Autistic/123.jpg: 128x128 Autistic 0.76, Non_Autistic 0.24, 4.4ms\n",
            "image 124/140 /content/autism/test/Autistic/124.jpg: 128x128 Autistic 0.70, Non_Autistic 0.30, 4.4ms\n",
            "image 125/140 /content/autism/test/Autistic/125.jpg: 128x128 Autistic 0.71, Non_Autistic 0.29, 4.2ms\n",
            "image 126/140 /content/autism/test/Autistic/126.jpg: 128x128 Autistic 0.74, Non_Autistic 0.26, 7.1ms\n",
            "image 127/140 /content/autism/test/Autistic/127.jpg: 128x128 Autistic 0.82, Non_Autistic 0.18, 4.6ms\n",
            "image 128/140 /content/autism/test/Autistic/128.jpg: 128x128 Autistic 0.72, Non_Autistic 0.28, 5.2ms\n",
            "image 129/140 /content/autism/test/Autistic/129.jpg: 128x128 Autistic 0.84, Non_Autistic 0.16, 4.1ms\n",
            "image 130/140 /content/autism/test/Autistic/130.jpg: 128x128 Autistic 0.66, Non_Autistic 0.34, 4.2ms\n",
            "image 131/140 /content/autism/test/Autistic/131.jpg: 128x128 Autistic 0.72, Non_Autistic 0.28, 4.1ms\n",
            "image 132/140 /content/autism/test/Autistic/132.jpg: 128x128 Autistic 0.68, Non_Autistic 0.32, 4.1ms\n",
            "image 133/140 /content/autism/test/Autistic/133.jpg: 128x128 Non_Autistic 0.67, Autistic 0.33, 6.3ms\n",
            "image 134/140 /content/autism/test/Autistic/134.jpg: 128x128 Autistic 0.64, Non_Autistic 0.36, 5.4ms\n",
            "image 135/140 /content/autism/test/Autistic/135.jpg: 128x128 Autistic 0.78, Non_Autistic 0.22, 5.2ms\n",
            "image 136/140 /content/autism/test/Autistic/136.jpg: 128x128 Autistic 0.77, Non_Autistic 0.23, 4.5ms\n",
            "image 137/140 /content/autism/test/Autistic/137.jpg: 128x128 Autistic 0.63, Non_Autistic 0.37, 5.2ms\n",
            "image 138/140 /content/autism/test/Autistic/138.jpg: 128x128 Autistic 0.57, Non_Autistic 0.43, 5.0ms\n",
            "image 139/140 /content/autism/test/Autistic/139.jpg: 128x128 Autistic 0.70, Non_Autistic 0.30, 5.0ms\n",
            "image 140/140 /content/autism/test/Autistic/140.jpg: 128x128 Autistic 0.75, Non_Autistic 0.25, 5.0ms\n",
            "Speed: 0.2ms preprocess, 4.6ms inference, 0.0ms postprocess per image at shape (1, 3, 128, 128)\n"
          ]
        }
      ]
    },
    {
      "cell_type": "code",
      "source": [
        "%cd {HOME}\n",
        "!yolo task=classify mode=predict model={HOME}/runs/classify/train/weights/best.pt conf=0.25 source=./autism/test/Non_Autistic/"
      ],
      "metadata": {
        "colab": {
          "base_uri": "https://localhost:8080/"
        },
        "id": "IvfQJHI1aGg2",
        "outputId": "e24d5aac-a506-4bf5-b9ea-58c4a3afffae"
      },
      "execution_count": 28,
      "outputs": [
        {
          "output_type": "stream",
          "name": "stdout",
          "text": [
            "/content\n",
            "Ultralytics YOLOv8.0.52 🚀 Python-3.9.16 torch-1.13.1+cu116 CUDA:0 (Tesla T4, 15102MiB)\n",
            "YOLOv8n-cls summary (fused): 73 layers, 1437442 parameters, 0 gradients, 3.3 GFLOPs\n",
            "\n",
            "image 1/140 /content/autism/test/Non_Autistic/001.jpg: 128x128 Non_Autistic 0.61, Autistic 0.39, 4.3ms\n",
            "image 2/140 /content/autism/test/Non_Autistic/002.jpg: 128x128 Non_Autistic 0.93, Autistic 0.07, 4.8ms\n",
            "image 3/140 /content/autism/test/Non_Autistic/003.jpg: 128x128 Non_Autistic 0.91, Autistic 0.09, 4.0ms\n",
            "image 4/140 /content/autism/test/Non_Autistic/004.jpg: 128x128 Non_Autistic 0.87, Autistic 0.13, 2.9ms\n",
            "image 5/140 /content/autism/test/Non_Autistic/005.jpg: 128x128 Non_Autistic 0.89, Autistic 0.11, 3.5ms\n",
            "image 6/140 /content/autism/test/Non_Autistic/006.jpg: 128x128 Non_Autistic 0.96, Autistic 0.04, 3.1ms\n",
            "image 7/140 /content/autism/test/Non_Autistic/007.jpg: 128x128 Non_Autistic 0.58, Autistic 0.42, 3.1ms\n",
            "image 8/140 /content/autism/test/Non_Autistic/008.jpg: 128x128 Non_Autistic 0.83, Autistic 0.17, 3.1ms\n",
            "image 9/140 /content/autism/test/Non_Autistic/009.jpg: 128x128 Autistic 0.55, Non_Autistic 0.45, 3.8ms\n",
            "image 10/140 /content/autism/test/Non_Autistic/010.jpg: 128x128 Non_Autistic 0.96, Autistic 0.04, 3.6ms\n",
            "image 11/140 /content/autism/test/Non_Autistic/011.jpg: 128x128 Non_Autistic 0.81, Autistic 0.19, 3.4ms\n",
            "image 12/140 /content/autism/test/Non_Autistic/012.jpg: 128x128 Non_Autistic 0.65, Autistic 0.35, 3.0ms\n",
            "image 13/140 /content/autism/test/Non_Autistic/013.jpg: 128x128 Non_Autistic 0.67, Autistic 0.33, 3.0ms\n",
            "image 14/140 /content/autism/test/Non_Autistic/014.jpg: 128x128 Non_Autistic 0.69, Autistic 0.31, 3.1ms\n",
            "image 15/140 /content/autism/test/Non_Autistic/015.jpg: 128x128 Non_Autistic 0.59, Autistic 0.41, 3.0ms\n",
            "image 16/140 /content/autism/test/Non_Autistic/016.jpg: 128x128 Non_Autistic 0.53, Autistic 0.47, 3.4ms\n",
            "image 17/140 /content/autism/test/Non_Autistic/017.jpg: 128x128 Non_Autistic 0.76, Autistic 0.24, 3.2ms\n",
            "image 18/140 /content/autism/test/Non_Autistic/018.jpg: 128x128 Non_Autistic 0.82, Autistic 0.18, 3.0ms\n",
            "image 19/140 /content/autism/test/Non_Autistic/019.jpg: 128x128 Non_Autistic 0.88, Autistic 0.12, 3.0ms\n",
            "image 20/140 /content/autism/test/Non_Autistic/020.jpg: 128x128 Non_Autistic 0.91, Autistic 0.09, 3.0ms\n",
            "image 21/140 /content/autism/test/Non_Autistic/021.jpg: 128x128 Non_Autistic 0.99, Autistic 0.01, 3.0ms\n",
            "image 22/140 /content/autism/test/Non_Autistic/022.jpg: 128x128 Non_Autistic 0.88, Autistic 0.12, 3.0ms\n",
            "image 23/140 /content/autism/test/Non_Autistic/023.jpg: 128x128 Non_Autistic 0.66, Autistic 0.34, 3.2ms\n",
            "image 24/140 /content/autism/test/Non_Autistic/024.jpg: 128x128 Autistic 0.55, Non_Autistic 0.45, 2.9ms\n",
            "image 25/140 /content/autism/test/Non_Autistic/025.jpg: 128x128 Non_Autistic 0.78, Autistic 0.22, 3.3ms\n",
            "image 26/140 /content/autism/test/Non_Autistic/026.jpg: 128x128 Non_Autistic 0.68, Autistic 0.32, 3.0ms\n",
            "image 27/140 /content/autism/test/Non_Autistic/027.jpg: 128x128 Non_Autistic 0.82, Autistic 0.18, 3.4ms\n",
            "image 28/140 /content/autism/test/Non_Autistic/028.jpg: 128x128 Non_Autistic 0.80, Autistic 0.20, 3.1ms\n",
            "image 29/140 /content/autism/test/Non_Autistic/029.jpg: 128x128 Non_Autistic 0.66, Autistic 0.34, 3.0ms\n",
            "image 30/140 /content/autism/test/Non_Autistic/030.jpg: 128x128 Non_Autistic 0.78, Autistic 0.22, 3.2ms\n",
            "image 31/140 /content/autism/test/Non_Autistic/031.jpg: 128x128 Non_Autistic 0.56, Autistic 0.44, 3.1ms\n",
            "image 32/140 /content/autism/test/Non_Autistic/032.jpg: 128x128 Non_Autistic 0.69, Autistic 0.31, 3.0ms\n",
            "image 33/140 /content/autism/test/Non_Autistic/033.jpg: 128x128 Non_Autistic 0.91, Autistic 0.09, 3.2ms\n",
            "image 34/140 /content/autism/test/Non_Autistic/034.jpg: 128x128 Non_Autistic 0.79, Autistic 0.21, 5.0ms\n",
            "image 35/140 /content/autism/test/Non_Autistic/035.jpg: 128x128 Non_Autistic 0.84, Autistic 0.16, 3.2ms\n",
            "image 36/140 /content/autism/test/Non_Autistic/036.jpg: 128x128 Non_Autistic 0.98, Autistic 0.02, 3.1ms\n",
            "image 37/140 /content/autism/test/Non_Autistic/037.jpg: 128x128 Non_Autistic 0.77, Autistic 0.23, 3.1ms\n",
            "image 38/140 /content/autism/test/Non_Autistic/038.jpg: 128x128 Non_Autistic 0.85, Autistic 0.15, 3.1ms\n",
            "image 39/140 /content/autism/test/Non_Autistic/039.jpg: 128x128 Non_Autistic 0.92, Autistic 0.08, 3.1ms\n",
            "image 40/140 /content/autism/test/Non_Autistic/040.jpg: 128x128 Non_Autistic 0.88, Autistic 0.12, 3.1ms\n",
            "image 41/140 /content/autism/test/Non_Autistic/041.jpg: 128x128 Non_Autistic 0.70, Autistic 0.30, 3.1ms\n",
            "image 42/140 /content/autism/test/Non_Autistic/042.jpg: 128x128 Autistic 0.59, Non_Autistic 0.41, 3.1ms\n",
            "image 43/140 /content/autism/test/Non_Autistic/043.jpg: 128x128 Non_Autistic 0.97, Autistic 0.03, 3.1ms\n",
            "image 44/140 /content/autism/test/Non_Autistic/044.jpg: 128x128 Non_Autistic 0.90, Autistic 0.10, 3.1ms\n",
            "image 45/140 /content/autism/test/Non_Autistic/045.jpg: 128x128 Non_Autistic 0.51, Autistic 0.49, 3.2ms\n",
            "image 46/140 /content/autism/test/Non_Autistic/046.jpg: 128x128 Non_Autistic 0.63, Autistic 0.37, 3.2ms\n",
            "image 47/140 /content/autism/test/Non_Autistic/047.jpg: 128x128 Non_Autistic 0.78, Autistic 0.22, 3.1ms\n",
            "image 48/140 /content/autism/test/Non_Autistic/048.jpg: 128x128 Non_Autistic 0.71, Autistic 0.29, 3.2ms\n",
            "image 49/140 /content/autism/test/Non_Autistic/049.jpg: 128x128 Non_Autistic 0.89, Autistic 0.11, 3.0ms\n",
            "image 50/140 /content/autism/test/Non_Autistic/050.jpg: 128x128 Non_Autistic 0.60, Autistic 0.40, 3.2ms\n",
            "image 51/140 /content/autism/test/Non_Autistic/051.jpg: 128x128 Non_Autistic 0.77, Autistic 0.23, 3.4ms\n",
            "image 52/140 /content/autism/test/Non_Autistic/052.jpg: 128x128 Non_Autistic 0.89, Autistic 0.11, 3.0ms\n",
            "image 53/140 /content/autism/test/Non_Autistic/053.jpg: 128x128 Non_Autistic 0.85, Autistic 0.15, 3.0ms\n",
            "image 54/140 /content/autism/test/Non_Autistic/054.jpg: 128x128 Non_Autistic 0.84, Autistic 0.16, 3.0ms\n",
            "image 55/140 /content/autism/test/Non_Autistic/055.jpg: 128x128 Non_Autistic 0.82, Autistic 0.18, 3.0ms\n",
            "image 56/140 /content/autism/test/Non_Autistic/056.jpg: 128x128 Non_Autistic 0.87, Autistic 0.13, 3.0ms\n",
            "image 57/140 /content/autism/test/Non_Autistic/057.jpg: 128x128 Non_Autistic 0.95, Autistic 0.05, 3.2ms\n",
            "image 58/140 /content/autism/test/Non_Autistic/058.jpg: 128x128 Non_Autistic 0.50, Autistic 0.50, 3.0ms\n",
            "image 59/140 /content/autism/test/Non_Autistic/059.jpg: 128x128 Non_Autistic 0.76, Autistic 0.24, 2.9ms\n",
            "image 60/140 /content/autism/test/Non_Autistic/060.jpg: 128x128 Non_Autistic 0.86, Autistic 0.14, 3.0ms\n",
            "image 61/140 /content/autism/test/Non_Autistic/061.jpg: 128x128 Non_Autistic 0.76, Autistic 0.24, 3.0ms\n",
            "image 62/140 /content/autism/test/Non_Autistic/062.jpg: 128x128 Non_Autistic 0.58, Autistic 0.42, 3.0ms\n",
            "image 63/140 /content/autism/test/Non_Autistic/063.jpg: 128x128 Autistic 0.54, Non_Autistic 0.46, 2.9ms\n",
            "image 64/140 /content/autism/test/Non_Autistic/064.jpg: 128x128 Non_Autistic 0.87, Autistic 0.13, 2.9ms\n",
            "image 65/140 /content/autism/test/Non_Autistic/065.jpg: 128x128 Non_Autistic 0.87, Autistic 0.13, 2.9ms\n",
            "image 66/140 /content/autism/test/Non_Autistic/066.jpg: 128x128 Non_Autistic 0.73, Autistic 0.27, 2.9ms\n",
            "image 67/140 /content/autism/test/Non_Autistic/067.jpg: 128x128 Non_Autistic 0.97, Autistic 0.03, 2.9ms\n",
            "image 68/140 /content/autism/test/Non_Autistic/068.jpg: 128x128 Non_Autistic 0.69, Autistic 0.31, 2.9ms\n",
            "image 69/140 /content/autism/test/Non_Autistic/069.jpg: 128x128 Non_Autistic 0.71, Autistic 0.29, 3.0ms\n",
            "image 70/140 /content/autism/test/Non_Autistic/070.jpg: 128x128 Non_Autistic 0.74, Autistic 0.26, 2.9ms\n",
            "image 71/140 /content/autism/test/Non_Autistic/071.jpg: 128x128 Autistic 0.56, Non_Autistic 0.44, 2.9ms\n",
            "image 72/140 /content/autism/test/Non_Autistic/072.jpg: 128x128 Autistic 0.59, Non_Autistic 0.41, 3.0ms\n",
            "image 73/140 /content/autism/test/Non_Autistic/073.jpg: 128x128 Non_Autistic 0.58, Autistic 0.42, 3.0ms\n",
            "image 74/140 /content/autism/test/Non_Autistic/074.jpg: 128x128 Non_Autistic 0.63, Autistic 0.37, 3.0ms\n",
            "image 75/140 /content/autism/test/Non_Autistic/075.jpg: 128x128 Non_Autistic 0.71, Autistic 0.29, 3.0ms\n",
            "image 76/140 /content/autism/test/Non_Autistic/076.jpg: 128x128 Non_Autistic 0.89, Autistic 0.11, 3.2ms\n",
            "image 77/140 /content/autism/test/Non_Autistic/077.jpg: 128x128 Non_Autistic 0.56, Autistic 0.44, 3.1ms\n",
            "image 78/140 /content/autism/test/Non_Autistic/078.jpg: 128x128 Non_Autistic 0.63, Autistic 0.37, 2.9ms\n",
            "image 79/140 /content/autism/test/Non_Autistic/079.jpg: 128x128 Non_Autistic 0.88, Autistic 0.12, 2.9ms\n",
            "image 80/140 /content/autism/test/Non_Autistic/080.jpg: 128x128 Non_Autistic 0.73, Autistic 0.27, 3.0ms\n",
            "image 81/140 /content/autism/test/Non_Autistic/081.jpg: 128x128 Autistic 0.63, Non_Autistic 0.37, 3.0ms\n",
            "image 82/140 /content/autism/test/Non_Autistic/082.jpg: 128x128 Non_Autistic 0.80, Autistic 0.20, 3.2ms\n",
            "image 83/140 /content/autism/test/Non_Autistic/083.jpg: 128x128 Non_Autistic 0.97, Autistic 0.03, 3.0ms\n",
            "image 84/140 /content/autism/test/Non_Autistic/084.jpg: 128x128 Autistic 0.64, Non_Autistic 0.36, 3.0ms\n",
            "image 85/140 /content/autism/test/Non_Autistic/085.jpg: 128x128 Non_Autistic 0.56, Autistic 0.44, 3.0ms\n",
            "image 86/140 /content/autism/test/Non_Autistic/086.jpg: 128x128 Autistic 0.61, Non_Autistic 0.39, 2.9ms\n",
            "image 87/140 /content/autism/test/Non_Autistic/087.jpg: 128x128 Non_Autistic 0.77, Autistic 0.23, 2.9ms\n",
            "image 88/140 /content/autism/test/Non_Autistic/088.jpg: 128x128 Autistic 0.72, Non_Autistic 0.28, 3.1ms\n",
            "image 89/140 /content/autism/test/Non_Autistic/089.jpg: 128x128 Non_Autistic 0.73, Autistic 0.27, 3.0ms\n",
            "image 90/140 /content/autism/test/Non_Autistic/090.jpg: 128x128 Non_Autistic 0.76, Autistic 0.24, 3.0ms\n",
            "image 91/140 /content/autism/test/Non_Autistic/091.jpg: 128x128 Non_Autistic 0.67, Autistic 0.33, 3.1ms\n",
            "image 92/140 /content/autism/test/Non_Autistic/092.jpg: 128x128 Non_Autistic 0.64, Autistic 0.36, 3.0ms\n",
            "image 93/140 /content/autism/test/Non_Autistic/093.jpg: 128x128 Non_Autistic 0.64, Autistic 0.36, 3.0ms\n",
            "image 94/140 /content/autism/test/Non_Autistic/094.jpg: 128x128 Non_Autistic 0.97, Autistic 0.03, 2.9ms\n",
            "image 95/140 /content/autism/test/Non_Autistic/095.jpg: 128x128 Non_Autistic 0.62, Autistic 0.38, 3.0ms\n",
            "image 96/140 /content/autism/test/Non_Autistic/096.jpg: 128x128 Non_Autistic 0.85, Autistic 0.15, 3.0ms\n",
            "image 97/140 /content/autism/test/Non_Autistic/097.jpg: 128x128 Non_Autistic 0.64, Autistic 0.36, 2.9ms\n",
            "image 98/140 /content/autism/test/Non_Autistic/098.jpg: 128x128 Autistic 0.64, Non_Autistic 0.36, 3.0ms\n",
            "image 99/140 /content/autism/test/Non_Autistic/099.jpg: 128x128 Non_Autistic 0.62, Autistic 0.38, 3.1ms\n",
            "image 100/140 /content/autism/test/Non_Autistic/100.jpg: 128x128 Autistic 0.59, Non_Autistic 0.41, 2.9ms\n",
            "image 101/140 /content/autism/test/Non_Autistic/101.jpg: 128x128 Non_Autistic 0.78, Autistic 0.22, 3.1ms\n",
            "image 102/140 /content/autism/test/Non_Autistic/102.jpg: 128x128 Non_Autistic 0.71, Autistic 0.29, 3.4ms\n",
            "image 103/140 /content/autism/test/Non_Autistic/103.jpg: 128x128 Non_Autistic 0.50, Autistic 0.50, 2.9ms\n",
            "image 104/140 /content/autism/test/Non_Autistic/104.jpg: 128x128 Non_Autistic 0.54, Autistic 0.46, 2.9ms\n",
            "image 105/140 /content/autism/test/Non_Autistic/105.jpg: 128x128 Non_Autistic 0.53, Autistic 0.47, 3.0ms\n",
            "image 106/140 /content/autism/test/Non_Autistic/106.jpg: 128x128 Non_Autistic 0.79, Autistic 0.21, 4.6ms\n",
            "image 107/140 /content/autism/test/Non_Autistic/107.jpg: 128x128 Non_Autistic 0.56, Autistic 0.44, 4.9ms\n",
            "image 108/140 /content/autism/test/Non_Autistic/108.jpg: 128x128 Non_Autistic 0.83, Autistic 0.17, 3.1ms\n",
            "image 109/140 /content/autism/test/Non_Autistic/109.jpg: 128x128 Autistic 0.61, Non_Autistic 0.39, 3.1ms\n",
            "image 110/140 /content/autism/test/Non_Autistic/110.jpg: 128x128 Autistic 0.54, Non_Autistic 0.46, 2.9ms\n",
            "image 111/140 /content/autism/test/Non_Autistic/111.jpg: 128x128 Non_Autistic 0.95, Autistic 0.05, 3.4ms\n",
            "image 112/140 /content/autism/test/Non_Autistic/112.jpg: 128x128 Autistic 0.52, Non_Autistic 0.48, 3.0ms\n",
            "image 113/140 /content/autism/test/Non_Autistic/113.jpg: 128x128 Autistic 0.65, Non_Autistic 0.35, 3.0ms\n",
            "image 114/140 /content/autism/test/Non_Autistic/114.jpg: 128x128 Non_Autistic 0.74, Autistic 0.26, 3.0ms\n",
            "image 115/140 /content/autism/test/Non_Autistic/115.jpg: 128x128 Non_Autistic 0.98, Autistic 0.02, 3.1ms\n",
            "image 116/140 /content/autism/test/Non_Autistic/116.jpg: 128x128 Non_Autistic 0.66, Autistic 0.34, 2.9ms\n",
            "image 117/140 /content/autism/test/Non_Autistic/117.jpg: 128x128 Autistic 0.73, Non_Autistic 0.27, 3.0ms\n",
            "image 118/140 /content/autism/test/Non_Autistic/118.jpg: 128x128 Non_Autistic 0.86, Autistic 0.14, 3.0ms\n",
            "image 119/140 /content/autism/test/Non_Autistic/119.jpg: 128x128 Non_Autistic 0.66, Autistic 0.34, 3.0ms\n",
            "image 120/140 /content/autism/test/Non_Autistic/120.jpg: 128x128 Autistic 0.71, Non_Autistic 0.29, 3.3ms\n",
            "image 121/140 /content/autism/test/Non_Autistic/121.jpg: 128x128 Non_Autistic 0.85, Autistic 0.15, 3.3ms\n",
            "image 122/140 /content/autism/test/Non_Autistic/122.jpg: 128x128 Non_Autistic 0.92, Autistic 0.08, 3.1ms\n",
            "image 123/140 /content/autism/test/Non_Autistic/123.jpg: 128x128 Autistic 0.59, Non_Autistic 0.41, 3.1ms\n",
            "image 124/140 /content/autism/test/Non_Autistic/124.jpg: 128x128 Non_Autistic 0.85, Autistic 0.15, 3.1ms\n",
            "image 125/140 /content/autism/test/Non_Autistic/125.jpg: 128x128 Non_Autistic 0.80, Autistic 0.20, 3.0ms\n",
            "image 126/140 /content/autism/test/Non_Autistic/126.jpg: 128x128 Non_Autistic 0.85, Autistic 0.15, 3.1ms\n",
            "image 127/140 /content/autism/test/Non_Autistic/127.jpg: 128x128 Autistic 0.52, Non_Autistic 0.48, 3.1ms\n",
            "image 128/140 /content/autism/test/Non_Autistic/128.jpg: 128x128 Non_Autistic 0.93, Autistic 0.07, 3.1ms\n",
            "image 129/140 /content/autism/test/Non_Autistic/129.jpg: 128x128 Non_Autistic 0.51, Autistic 0.49, 3.0ms\n",
            "image 130/140 /content/autism/test/Non_Autistic/130.jpg: 128x128 Non_Autistic 0.71, Autistic 0.29, 3.5ms\n",
            "image 131/140 /content/autism/test/Non_Autistic/131.jpg: 128x128 Non_Autistic 0.84, Autistic 0.16, 3.1ms\n",
            "image 132/140 /content/autism/test/Non_Autistic/132.jpg: 128x128 Autistic 0.52, Non_Autistic 0.48, 3.0ms\n",
            "image 133/140 /content/autism/test/Non_Autistic/133.jpg: 128x128 Autistic 0.58, Non_Autistic 0.42, 3.0ms\n",
            "image 134/140 /content/autism/test/Non_Autistic/134.jpg: 128x128 Non_Autistic 0.69, Autistic 0.31, 3.0ms\n",
            "image 135/140 /content/autism/test/Non_Autistic/135.jpg: 128x128 Non_Autistic 0.74, Autistic 0.26, 3.0ms\n",
            "image 136/140 /content/autism/test/Non_Autistic/136.jpg: 128x128 Non_Autistic 0.59, Autistic 0.41, 3.0ms\n",
            "image 137/140 /content/autism/test/Non_Autistic/137.jpg: 128x128 Autistic 0.78, Non_Autistic 0.22, 3.0ms\n",
            "image 138/140 /content/autism/test/Non_Autistic/138.jpg: 128x128 Non_Autistic 0.70, Autistic 0.30, 4.1ms\n",
            "image 139/140 /content/autism/test/Non_Autistic/139.jpg: 128x128 Non_Autistic 0.71, Autistic 0.29, 3.1ms\n",
            "image 140/140 /content/autism/test/Non_Autistic/140.jpg: 128x128 Non_Autistic 0.60, Autistic 0.40, 3.1ms\n",
            "Speed: 0.1ms preprocess, 3.1ms inference, 0.0ms postprocess per image at shape (1, 3, 128, 128)\n"
          ]
        }
      ]
    },
    {
      "cell_type": "markdown",
      "source": [
        "# **Real Autism found in Tiktok It predicts well on testing this data!! **"
      ],
      "metadata": {
        "id": "VIa1duiifNWL"
      }
    },
    {
      "cell_type": "code",
      "source": [
        "import glob\n",
        "from IPython.display import Image, display\n",
        "\n",
        "for image_path in glob.glob(f'/content/autismpatient.jpg')[:1]:\n",
        "      display(Image(filename=image_path, width=600))\n",
        "      print(\"\\n\")"
      ],
      "metadata": {
        "colab": {
          "base_uri": "https://localhost:8080/",
          "height": 788
        },
        "id": "oI3H7B1lbGpd",
        "outputId": "d939a382-d25a-4bc9-aab3-fb5ec37b917a"
      },
      "execution_count": 35,
      "outputs": [
        {
          "output_type": "display_data",
          "data": {
            "image/jpeg": "[encoded data removed]",
            "text/plain": [
              "<IPython.core.display.Image object>"
            ]
          },
          "metadata": {
            "image/jpeg": {
              "width": 600
            }
          }
        },
        {
          "output_type": "stream",
          "name": "stdout",
          "text": [
            "\n",
            "\n"
          ]
        }
      ]
    },
    {
      "cell_type": "code",
      "source": [
        "!yolo task=classify mode=predict model={HOME}/runs/classify/train/weights/best.pt conf=0.25 source=./autismpatient.jpg"
      ],
      "metadata": {
        "colab": {
          "base_uri": "https://localhost:8080/"
        },
        "id": "mEf6VXdQbWEK",
        "outputId": "4bd1bc72-d882-4ef8-dc9c-3866bbba83f0"
      },
      "execution_count": 29,
      "outputs": [
        {
          "output_type": "stream",
          "name": "stdout",
          "text": [
            "Ultralytics YOLOv8.0.52 🚀 Python-3.9.16 torch-1.13.1+cu116 CUDA:0 (Tesla T4, 15102MiB)\n",
            "YOLOv8n-cls summary (fused): 73 layers, 1437442 parameters, 0 gradients, 3.3 GFLOPs\n",
            "\n",
            "image 1/1 /content/autismpatient.jpg: 128x128 Autistic 0.78, Non_Autistic 0.22, 4.1ms\n",
            "Speed: 0.2ms preprocess, 4.1ms inference, 0.1ms postprocess per image at shape (1, 3, 128, 128)\n"
          ]
        }
      ]
    },
    {
      "cell_type": "code",
      "source": [
        "!git clone https://github.com/ultralytics/yolov5  # clone\n",
        "%cd yolov5\n",
        "%pip install -qr requirements.txt  # install\n",
        "\n",
        "import torch\n",
        "import utils\n",
        "display = utils.notebook_init()  # checks"
      ],
      "metadata": {
        "colab": {
          "base_uri": "https://localhost:8080/"
        },
        "id": "4VrHu6vVdIqs",
        "outputId": "95eff9e1-28fc-4941-8cdf-44b44cdc97f9"
      },
      "execution_count": 36,
      "outputs": [
        {
          "output_type": "stream",
          "name": "stderr",
          "text": [
            "YOLOv5 🚀 v7.0-119-g5543b89 Python-3.9.16 torch-1.13.1+cu116 CUDA:0 (Tesla T4, 15102MiB)\n"
          ]
        },
        {
          "output_type": "stream",
          "name": "stdout",
          "text": [
            "Setup complete ✅ (2 CPUs, 12.7 GB RAM, 25.7/78.2 GB disk)\n"
          ]
        }
      ]
    },
    {
      "cell_type": "code",
      "source": [
        "!git clone https://github.com/DarvinX/trash_classifier.git"
      ],
      "metadata": {
        "colab": {
          "base_uri": "https://localhost:8080/"
        },
        "id": "t1aHgfkjfoWf",
        "outputId": "7e9cdc40-2e98-43ff-9d9d-40915771275f"
      },
      "execution_count": 37,
      "outputs": [
        {
          "output_type": "stream",
          "name": "stdout",
          "text": [
            "Cloning into 'trash_classifier'...\n",
            "remote: Enumerating objects: 2574, done.\u001b[K\n",
            "remote: Counting objects: 100% (3/3), done.\u001b[K\n",
            "remote: Compressing objects: 100% (3/3), done.\u001b[K\n",
            "remote: Total 2574 (delta 0), reused 0 (delta 0), pack-reused 2571\u001b[K\n",
            "Receiving objects: 100% (2574/2574), 43.30 MiB | 17.21 MiB/s, done.\n",
            "Resolving deltas: 100% (9/9), done.\n"
          ]
        }
      ]
    },
    {
      "cell_type": "code",
      "source": [
        "from utils.downloads import attempt_download\n",
        "\n",
        "p5 = ['n', 's', 'm', 'l', 'x']  # P5 models\n",
        "cls = [f'{x}-cls' for x in p5]  # classification models\n",
        "\n",
        "for x in cls:\n",
        "    attempt_download(f'weights/yolov5{x}.pt')"
      ],
      "metadata": {
        "colab": {
          "base_uri": "https://localhost:8080/",
          "height": 359,
          "referenced_widgets": [
            "6f8073c542b54daeb82f4aefd4c1d709",
            "9223575653804f4abbcba4cab4494b88",
            "26ce5b9658fe4b7c9c64d4e20d597c21",
            "55527065442c44bd9ef268351a571194",
            "0aa78990d15c4ffe9012c61fd9b185e8",
            "e1a748350ea24c1590863811aa4f9b73",
            "11982740a6854dd78d59301b02dad7b9",
            "d39a2b3dc89e4eb69b36d196643d0c96",
            "617c6d62d8a143268c455ad8dc633f01",
            "f3d866c5133d4ae3beb565f8bf87e4ef",
            "f199b845cdb743ea95fed3fb3e03fb95",
            "7c2c0c646b5e4bb9aa16f4d8b9c37984",
            "1f461cba6912434a9b82ca074cf4b2e0",
            "4bb1d89b3553427c9253012c0b252e88",
            "a1d52f07dbf04d709370e6331ba66641",
            "5386833c34204b4b849d2ed011272b19",
            "90f60ea9bc5d4720895441088c63d6a3",
            "ba1dc1d579cf41d09f5d06eb648e1b11",
            "2689fbfd1c7b46858bc2203597e3bcfa",
            "b849faf495ab4cfd9a681f7a2ba768e9",
            "0f0d5db88fa34eea992613c0f66732aa",
            "cf6348b9a83348778e883f84e22d37a5",
            "c58782b7b67d46fab4f85d1b8f2f7d52",
            "8bca6eee35ad4dfbb284689e1fa674ea",
            "1c0c87c7aa4c41af96e04630e4195bac",
            "51e8578fc3a24fe0b5a78820bffb4987",
            "6fd37d30fe734c6ab262d144b9e3d165",
            "36f924b3f5ae4257975c53402f8e2f14",
            "6fe9668b29ab4c57b0d263f5cbc732ff",
            "044b85acb8ef4acab1db1a6179ef8cb0",
            "134eed7e77da4ee1b2e62e82139d5ff3",
            "0e276b0f08a840cd9d0647b454f8fafb",
            "8cc635ada81b43cab17b1e8d06782c92",
            "40931102b36f4e43a05e7389adf18762",
            "80b84027a5b44698a7a9a8634e2bbc2a",
            "e1dd813021bb40fbb208b20d2c73d31d",
            "b4338ff86b2541e39186f180c7f4b5e1",
            "cdbdbdaabe0b486989d27aeed31be089",
            "b2177ef5d4d84a0a9b55020ec937f40e",
            "db11e65d2d10492b80c72aa51722febd",
            "6fc82410f9954ca19506325fe089a93f",
            "81a651bbe3444a7a98dba187f97d2611",
            "726eab44540246668b7150c4d19f2c0b",
            "5f69691a5ced48d8961e4d4ac9dda5d3",
            "5dbed6e37c914c028ad47db345c11e2a",
            "e3bf50c92c3141c1800b6545b003ad90",
            "88b65cfe6d854744afaf5a0c319d4e8a",
            "63beccf09a974020a4ff9399dd78079c",
            "c18e57e5daf04c489f7c17574ededb3a",
            "9d2ae098eacf4286b4df3e2493c5999a",
            "f8a6806f9361470c8820efc039d7cbdb",
            "4268a72211bb4cf383a6fae20cd4882b",
            "a1715d8513aa4a139a48c37a127136fa",
            "c855a88304564f46a2147ab54e6ab7ef",
            "1cf616401cec498d876e522209273e42"
          ]
        },
        "id": "B2vYOSW9f523",
        "outputId": "af51e7c2-4857-4ec7-afc3-d17803d1107d"
      },
      "execution_count": 38,
      "outputs": [
        {
          "output_type": "stream",
          "name": "stderr",
          "text": [
            "Downloading https://github.com/ultralytics/yolov5/releases/download/v7.0/yolov5n-cls.pt to weights/yolov5n-cls.pt...\n"
          ]
        },
        {
          "output_type": "display_data",
          "data": {
            "text/plain": [
              "  0%|          | 0.00/4.87M [00:00<?, ?B/s]"
            ],
            "application/vnd.jupyter.widget-view+json": {
              "version_major": 2,
              "version_minor": 0,
              "model_id": "6f8073c542b54daeb82f4aefd4c1d709"
            }
          },
          "metadata": {}
        },
        {
          "output_type": "stream",
          "name": "stderr",
          "text": [
            "\n",
            "Downloading https://github.com/ultralytics/yolov5/releases/download/v7.0/yolov5s-cls.pt to weights/yolov5s-cls.pt...\n"
          ]
        },
        {
          "output_type": "display_data",
          "data": {
            "text/plain": [
              "  0%|          | 0.00/10.5M [00:00<?, ?B/s]"
            ],
            "application/vnd.jupyter.widget-view+json": {
              "version_major": 2,
              "version_minor": 0,
              "model_id": "7c2c0c646b5e4bb9aa16f4d8b9c37984"
            }
          },
          "metadata": {}
        },
        {
          "output_type": "stream",
          "name": "stderr",
          "text": [
            "\n",
            "Downloading https://github.com/ultralytics/yolov5/releases/download/v7.0/yolov5m-cls.pt to weights/yolov5m-cls.pt...\n"
          ]
        },
        {
          "output_type": "display_data",
          "data": {
            "text/plain": [
              "  0%|          | 0.00/24.9M [00:00<?, ?B/s]"
            ],
            "application/vnd.jupyter.widget-view+json": {
              "version_major": 2,
              "version_minor": 0,
              "model_id": "c58782b7b67d46fab4f85d1b8f2f7d52"
            }
          },
          "metadata": {}
        },
        {
          "output_type": "stream",
          "name": "stderr",
          "text": [
            "\n",
            "Downloading https://github.com/ultralytics/yolov5/releases/download/v7.0/yolov5l-cls.pt to weights/yolov5l-cls.pt...\n"
          ]
        },
        {
          "output_type": "display_data",
          "data": {
            "text/plain": [
              "  0%|          | 0.00/50.9M [00:00<?, ?B/s]"
            ],
            "application/vnd.jupyter.widget-view+json": {
              "version_major": 2,
              "version_minor": 0,
              "model_id": "40931102b36f4e43a05e7389adf18762"
            }
          },
          "metadata": {}
        },
        {
          "output_type": "stream",
          "name": "stderr",
          "text": [
            "\n",
            "Downloading https://github.com/ultralytics/yolov5/releases/download/v7.0/yolov5x-cls.pt to weights/yolov5x-cls.pt...\n"
          ]
        },
        {
          "output_type": "display_data",
          "data": {
            "text/plain": [
              "  0%|          | 0.00/92.0M [00:00<?, ?B/s]"
            ],
            "application/vnd.jupyter.widget-view+json": {
              "version_major": 2,
              "version_minor": 0,
              "model_id": "5dbed6e37c914c028ad47db345c11e2a"
            }
          },
          "metadata": {}
        },
        {
          "output_type": "stream",
          "name": "stderr",
          "text": [
            "\n"
          ]
        }
      ]
    },
    {
      "cell_type": "code",
      "source": [
        "from utils.downloads import attempt_download\n",
        "\n",
        "p5 = ['n', 's', 'm', 'l', 'x']  # P5 models\n",
        "cls = [f'{x}-cls' for x in p5]  # classification models\n",
        "\n",
        "for x in cls:\n",
        "    attempt_download(f'weights/yolov5{x}.pt')"
      ],
      "metadata": {
        "id": "v0iCkTVQf9Fj"
      },
      "execution_count": 39,
      "outputs": []
    },
    {
      "cell_type": "code",
      "source": [
        "%cd ../yolov5\n",
        "\n",
        "from utils.downloads import attempt_download\n",
        "\n",
        "p5 = ['n', 's', 'm', 'l', 'x']  # P5 models\n",
        "cls = [f'{x}-cls' for x in p5]  # classification models\n",
        "\n",
        "for x in cls:\n",
        "    attempt_download(f'weights/yolov5{x}.pt')\n",
        "!python classify/train.py --model yolov5n-cls.pt --data trash_classifier/dataset --epochs 10 --img 224 --pretrained weights/yolov5s-cls.pt"
      ],
      "metadata": {
        "colab": {
          "base_uri": "https://localhost:8080/"
        },
        "id": "uYxcmwhwgE0m",
        "outputId": "c7e8987e-e6f8-4608-8643-1a8bd17f646d"
      },
      "execution_count": 41,
      "outputs": [
        {
          "output_type": "stream",
          "name": "stdout",
          "text": [
            "/content/yolov5\n",
            "\u001b[34m\u001b[1mclassify/train: \u001b[0mmodel=yolov5n-cls.pt, data=trash_classifier/dataset, epochs=10, batch_size=64, imgsz=224, nosave=False, cache=None, device=, workers=8, project=runs/train-cls, name=exp, exist_ok=False, pretrained=weights/yolov5s-cls.pt, optimizer=Adam, lr0=0.001, decay=5e-05, label_smoothing=0.1, cutoff=None, dropout=None, verbose=False, seed=0, local_rank=-1\n",
            "\u001b[34m\u001b[1mgithub: \u001b[0mup to date with https://github.com/ultralytics/yolov5 ✅\n",
            "YOLOv5 🚀 v7.0-119-g5543b89 Python-3.9.16 torch-1.13.1+cu116 CUDA:0 (Tesla T4, 15102MiB)\n",
            "\n",
            "\u001b[34m\u001b[1mTensorBoard: \u001b[0mStart with 'tensorboard --logdir runs/train-cls', view at http://localhost:6006/\n",
            "2023-03-11 11:52:26.013619: I tensorflow/core/platform/cpu_feature_guard.cc:193] This TensorFlow binary is optimized with oneAPI Deep Neural Network Library (oneDNN) to use the following CPU instructions in performance-critical operations:  AVX2 FMA\n",
            "To enable them in other operations, rebuild TensorFlow with the appropriate compiler flags.\n",
            "2023-03-11 11:52:27.353852: W tensorflow/compiler/xla/stream_executor/platform/default/dso_loader.cc:64] Could not load dynamic library 'libnvinfer.so.7'; dlerror: libnvinfer.so.7: cannot open shared object file: No such file or directory; LD_LIBRARY_PATH: /usr/local/lib/python3.9/dist-packages/cv2/../../lib64:/usr/local/lib/python3.9/dist-packages/cv2/../../lib64:/usr/lib64-nvidia\n",
            "2023-03-11 11:52:27.354006: W tensorflow/compiler/xla/stream_executor/platform/default/dso_loader.cc:64] Could not load dynamic library 'libnvinfer_plugin.so.7'; dlerror: libnvinfer_plugin.so.7: cannot open shared object file: No such file or directory; LD_LIBRARY_PATH: /usr/local/lib/python3.9/dist-packages/cv2/../../lib64:/usr/local/lib/python3.9/dist-packages/cv2/../../lib64:/usr/lib64-nvidia\n",
            "2023-03-11 11:52:27.354030: W tensorflow/compiler/tf2tensorrt/utils/py_utils.cc:38] TF-TRT Warning: Cannot dlopen some TensorRT libraries. If you would like to use Nvidia GPU with TensorRT, please make sure the missing libraries mentioned above are installed properly.\n",
            "\u001b[34m\u001b[1malbumentations: \u001b[0mRandomResizedCrop(p=1.0, height=224, width=224, scale=(0.08, 1.0), ratio=(0.75, 1.3333333333333333), interpolation=1), HorizontalFlip(p=0.5), ColorJitter(p=0.5, brightness=[0.6, 1.4], contrast=[0.6, 1.4], saturation=[0.6, 1.4], hue=[0, 0]), Normalize(p=1.0, mean=(0.485, 0.456, 0.406), std=(0.229, 0.224, 0.225), max_pixel_value=255.0), ToTensorV2(always_apply=True, p=1.0, transpose_mask=False)\n",
            "Model summary: 149 layers, 1218405 parameters, 1218405 gradients, 3.0 GFLOPs\n",
            "\u001b[34m\u001b[1moptimizer:\u001b[0m Adam(lr=0.001) with parameter groups 32 weight(decay=0.0), 33 weight(decay=5e-05), 33 bias\n",
            "Image sizes 224 train, 224 test\n",
            "Using 1 dataloader workers\n",
            "Logging results to \u001b[1mruns/train-cls/exp2\u001b[0m\n",
            "Starting yolov5n-cls.pt training on trash_classifier/dataset dataset with 5 classes for 10 epochs...\n",
            "\n",
            "     Epoch   GPU_mem  train_loss   test_loss    top1_acc    top5_acc\n",
            "      1/10    0.692G         1.5        2.21           0           1: 100% 36/36 [00:13<00:00,  2.66it/s]\n",
            "      2/10    0.847G        1.39        2.28           0           1: 100% 36/36 [00:12<00:00,  2.87it/s]\n",
            "      3/10    0.847G        1.34         1.8       0.219           1: 100% 36/36 [00:12<00:00,  2.90it/s]\n",
            "      4/10    0.847G        1.29        2.13      0.0584           1: 100% 36/36 [00:14<00:00,  2.53it/s]\n",
            "      5/10    0.847G        1.27        2.15      0.0876           1: 100% 36/36 [00:12<00:00,  3.00it/s]\n",
            "      6/10    0.847G        1.24        1.99       0.182           1: 100% 36/36 [00:11<00:00,  3.09it/s]\n",
            "      7/10    0.847G        1.23        1.91       0.161           1: 100% 36/36 [00:13<00:00,  2.67it/s]\n",
            "      8/10    0.847G        1.21        1.97      0.0949           1: 100% 36/36 [00:13<00:00,  2.70it/s]\n",
            "      9/10    0.847G        1.18        2.04      0.0803           1: 100% 36/36 [00:12<00:00,  2.86it/s]\n",
            "     10/10    0.847G        1.18        1.89       0.131           1: 100% 36/36 [00:12<00:00,  2.87it/s]\n",
            "\n",
            "Training complete (0.036 hours)\n",
            "Results saved to \u001b[1mruns/train-cls/exp2\u001b[0m\n",
            "Predict:         python classify/predict.py --weights runs/train-cls/exp2/weights/best.pt --source im.jpg\n",
            "Validate:        python classify/val.py --weights runs/train-cls/exp2/weights/best.pt --data trash_classifier/dataset\n",
            "Export:          python export.py --weights runs/train-cls/exp2/weights/best.pt --include onnx\n",
            "PyTorch Hub:     model = torch.hub.load('ultralytics/yolov5', 'custom', 'runs/train-cls/exp2/weights/best.pt')\n",
            "Visualize:       https://netron.app\n",
            "\n"
          ]
        }
      ]
    },
    {
      "cell_type": "code",
      "source": [
        "#Download example image\n",
        "import requests\n",
        "image_url = \"https://i.imgur.com/OczPfaz.jpg\"\n",
        "img_data = requests.get(image_url).content\n",
        "with open('bananas.jpg', 'wb') as handler:\n",
        "    handler.write(img_data)"
      ],
      "metadata": {
        "id": "-bxf_FUIgLdJ"
      },
      "execution_count": 42,
      "outputs": []
    },
    {
      "cell_type": "code",
      "source": [],
      "metadata": {
        "id": "DvaWv8sBhkAm"
      },
      "execution_count": null,
      "outputs": []
    }
  ]
}